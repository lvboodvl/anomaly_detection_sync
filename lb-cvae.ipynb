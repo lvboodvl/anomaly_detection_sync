{
 "cells": [
  {
   "cell_type": "markdown",
   "metadata": {},
   "source": [
    "Deep Learning Models -- A collection of various deep learning architectures, models, and tips for TensorFlow and PyTorch in Jupyter Notebooks.\n",
    "- Author: Sebastian Raschka\n",
    "- GitHub Repository: https://github.com/rasbt/deeplearning-models"
   ]
  },
  {
   "cell_type": "code",
   "execution_count": 1,
   "metadata": {},
   "outputs": [
    {
     "name": "stdout",
     "output_type": "stream",
     "text": [
      "Sebastian Raschka \n",
      "\n",
      "CPython 3.5.2\n",
      "IPython 7.3.0\n",
      "\n",
      "torch 1.0.1.post2\n"
     ]
    }
   ],
   "source": [
    "%load_ext watermark\n",
    "%watermark -a 'Sebastian Raschka' -v -p torch"
   ]
  },
  {
   "cell_type": "markdown",
   "metadata": {},
   "source": [
    "- Runs on CPU or GPU (if available)"
   ]
  },
  {
   "cell_type": "markdown",
   "metadata": {},
   "source": [
    "# Model Zoo -- Conditional Variational Autoencoder\n",
    "\n",
    "## (with labels in reconstruction loss)"
   ]
  },
  {
   "cell_type": "markdown",
   "metadata": {},
   "source": [
    "A simple conditional variational autoencoder that compresses 768-pixel MNIST images down to a 35-pixel latent vector representation.\n",
    "\n",
    "This implementation concatenates the inputs with the class labels when computing the reconstruction loss as it is commonly done in non-convolutional conditional variational autoencoders. This leads to sightly better results compared to the implementation that does NOT concatenate the labels with the inputs to compute the reconstruction loss. For reference, see the implementation [./autoencoder-cvae_no-out-concat.ipynb](./autoencoder-cvae_no-out-concat.ipynb)"
   ]
  },
  {
   "cell_type": "markdown",
   "metadata": {},
   "source": [
    "## Imports"
   ]
  },
  {
   "cell_type": "code",
   "execution_count": 2,
   "metadata": {},
   "outputs": [],
   "source": [
    "import time\n",
    "import numpy as np\n",
    "import torch\n",
    "import torch.nn.functional as F\n",
    "from torch.utils.data import DataLoader\n",
    "from torchvision import datasets\n",
    "from torchvision import transforms\n",
    "\n",
    "\n",
    "if torch.cuda.is_available():\n",
    "    torch.backends.cudnn.deterministic = True"
   ]
  },
  {
   "cell_type": "code",
   "execution_count": 75,
   "metadata": {},
   "outputs": [
    {
     "name": "stdout",
     "output_type": "stream",
     "text": [
      "Device: cuda:0\n"
     ]
    }
   ],
   "source": [
    "##########################\n",
    "### SETTINGS\n",
    "##########################\n",
    "\n",
    "# Device\n",
    "device = torch.device(\"cuda:0\" if torch.cuda.is_available() else \"cpu\")\n",
    "print('Device:', device)\n",
    "\n",
    "# Hyperparameters\n",
    "random_seed = 108\n",
    "learning_rate = 1e-2\n",
    "num_epochs = 5000\n",
    "batch_size = 4\n",
    "\n",
    "# Architecture\n",
    "num_classes = 2\n",
    "num_features = 784\n",
    "num_hidden_1 = 392 #500\n",
    "num_latent = 20\n"
   ]
  },
  {
   "cell_type": "code",
   "execution_count": 4,
   "metadata": {},
   "outputs": [
    {
     "name": "stdout",
     "output_type": "stream",
     "text": [
      "mean:\n",
      "-4.100184960471804\n",
      "sigma:\n",
      "11.309480936806958\n",
      "mean:\n",
      "0.4987023850925476\n",
      "sigma:\n",
      "0.07229827333464353\n"
     ]
    }
   ],
   "source": [
    "# load dataset and cut it into train val part and shuffle them\n",
    "data = np.loadtxt('sync_detection_data.txt')\n",
    "label = np.loadtxt('sync_detection_label.txt')\n",
    "N, D = np.shape(data)\n",
    "label_int = np.zeros((N),dtype=int)\n",
    "for k in range(N):\n",
    "    label_int[k] = int(label[k])\n",
    "\n",
    "ratio_train = 0.7\n",
    "ind_cut = int(ratio_train * N)\n",
    "ind = np.random.permutation(N)\n",
    "train_data = data[ind[:ind_cut]]\n",
    "train_datas = train_data[:256*40]\n",
    "val_data = data[ind[ind_cut:]]\n",
    "\n",
    "train_label = label[ind[:ind_cut]]\n",
    "train_labels = train_label[:256*40]\n",
    "val_label = label[ind[ind_cut:]]\n",
    "np.shape(train_datas)\n",
    "\n",
    "mean = np.mean(train_datas)\n",
    "var = np.var(train_datas)\n",
    "print('mean:')\n",
    "print(mean)\n",
    "print('sigma:')\n",
    "sigma = np.sqrt(var)\n",
    "print(sigma)\n",
    "# preprocessing is so important\n",
    "def data_in_one(inputdata):\n",
    "    inputdata = (inputdata-inputdata.min())/(inputdata.max()-inputdata.min())\n",
    "#    inputdata = 2.0 * inputdata - 1.0\n",
    "    return inputdata\n",
    "\n",
    "train_datas_process = data_in_one(train_data)\n",
    "mean = np.mean(train_datas_process)\n",
    "var = np.var(train_datas_process)\n",
    "print('mean:')\n",
    "print(mean)\n",
    "print('sigma:')\n",
    "sigma = np.sqrt(var)\n",
    "print(sigma)"
   ]
  },
  {
   "cell_type": "markdown",
   "metadata": {},
   "source": [
    "## Model"
   ]
  },
  {
   "cell_type": "code",
   "execution_count": 76,
   "metadata": {},
   "outputs": [],
   "source": [
    "##########################\n",
    "### MODEL\n",
    "##########################\n",
    "\n",
    "\n",
    "def to_onehot(labels, num_classes, device):\n",
    "\n",
    "    labels_onehot = torch.zeros(labels.size()[0], num_classes).to(device)\n",
    "    labels_onehot.scatter_(1, labels.view(-1, 1), 1)\n",
    "\n",
    "    return labels_onehot\n",
    "\n",
    "\n",
    "class ConditionalVariationalAutoencoder(torch.nn.Module):\n",
    "\n",
    "    def __init__(self, num_features, num_hidden_1, num_latent, num_classes):\n",
    "        super(ConditionalVariationalAutoencoder, self).__init__()\n",
    "        \n",
    "        self.num_classes = num_classes\n",
    "        \n",
    "        ### ENCODER\n",
    "        self.hidden_1 = torch.nn.Linear(num_features+num_classes, num_hidden_1)\n",
    "        self.z_mean = torch.nn.Linear(num_hidden_1, num_latent)\n",
    "        # in the original paper (Kingma & Welling 2015, we use\n",
    "        # have a z_mean and z_var, but the problem is that\n",
    "        # the z_var can be negative, which would cause issues\n",
    "        # in the log later. Hence we assume that latent vector\n",
    "        # has a z_mean and z_log_var component, and when we need\n",
    "        # the regular variance or std_dev, we simply use \n",
    "        # an exponential function\n",
    "        self.z_log_var = torch.nn.Linear(num_hidden_1, num_latent)\n",
    "        \n",
    "        \n",
    "        ### DECODER\n",
    "        self.linear_3 = torch.nn.Linear(num_latent+num_classes, num_hidden_1)\n",
    "        self.linear_4 = torch.nn.Linear(num_hidden_1, num_features+num_classes)\n",
    "\n",
    "    def reparameterize(self, z_mu, z_log_var):\n",
    "        # Sample epsilon from standard normal distribution\n",
    "        eps = torch.randn(z_mu.size(0), z_mu.size(1)).to(device)\n",
    "        # note that log(x^2) = 2*log(x); hence divide by 2 to get std_dev\n",
    "        # i.e., std_dev = exp(log(std_dev^2)/2) = exp(log(var)/2)\n",
    "        z = z_mu + eps * torch.exp(z_log_var/2.) \n",
    "        return z\n",
    "        \n",
    "    def encoder(self, features, targets):\n",
    "        ### Add condition\n",
    "        onehot_targets = to_onehot(targets, self.num_classes, device)\n",
    "        x = torch.cat((features, onehot_targets), dim=1)\n",
    "\n",
    "        ### ENCODER\n",
    "        x = self.hidden_1(x)\n",
    "        x = F.leaky_relu(x)\n",
    "        z_mean = self.z_mean(x)\n",
    "        z_log_var = self.z_log_var(x)\n",
    "        encoded = self.reparameterize(z_mean, z_log_var)\n",
    "        return z_mean, z_log_var, encoded\n",
    "    \n",
    "    def decoder(self, encoded, targets):\n",
    "        ### Add condition\n",
    "        onehot_targets = to_onehot(targets, self.num_classes, device)\n",
    "        encoded = torch.cat((encoded, onehot_targets), dim=1)        \n",
    "        \n",
    "        ### DECODER\n",
    "        x = self.linear_3(encoded)\n",
    "        x = F.leaky_relu(x)\n",
    "        x = self.linear_4(x)\n",
    "        decoded = torch.sigmoid(x)\n",
    "        return decoded\n",
    "\n",
    "    def forward(self, features, targets):\n",
    "        \n",
    "        z_mean, z_log_var, encoded = self.encoder(features, targets)\n",
    "        decoded = self.decoder(encoded, targets)\n",
    "        \n",
    "        return z_mean, z_log_var, encoded, decoded\n",
    "\n",
    "    \n",
    "torch.manual_seed(random_seed)\n",
    "model = ConditionalVariationalAutoencoder(num_features,\n",
    "                                          num_hidden_1,\n",
    "                                          num_latent,\n",
    "                                          num_classes)\n",
    "model = model.to(device)\n",
    "    \n",
    "\n",
    "##########################\n",
    "### COST AND OPTIMIZER\n",
    "##########################\n",
    "\n",
    "optimizer = torch.optim.Adam(model.parameters(), lr=learning_rate)  "
   ]
  },
  {
   "cell_type": "code",
   "execution_count": 77,
   "metadata": {},
   "outputs": [],
   "source": [
    "dir_name = 'model_43.pth'"
   ]
  },
  {
   "cell_type": "code",
   "execution_count": 90,
   "metadata": {},
   "outputs": [],
   "source": [
    "resume_flag = True\n",
    "if (resume_flag==True):\n",
    "    checkpoint = torch.load(dir_name)\n",
    "    model.load_state_dict(checkpoint['net'])\n",
    "    optimizer.load_state_dict(checkpoint['optimizer'])\n",
    "    start_epoch = checkpoint['epoch'] + 1\n",
    "else:    \n",
    "    start_epoch = 0"
   ]
  },
  {
   "cell_type": "markdown",
   "metadata": {},
   "source": [
    "## Training"
   ]
  },
  {
   "cell_type": "code",
   "execution_count": 91,
   "metadata": {},
   "outputs": [
    {
     "name": "stdout",
     "output_type": "stream",
     "text": [
      "Epoch: 046/5000 | Batch 000/2560 | kl_divergence: 5.4748 | pixelwise_bce: 2157.4534 | Cost: 2162.9282\n",
      "Epoch: 046/5000 | Batch 020/2560 | kl_divergence: 3.9494 | pixelwise_bce: 2170.1265 | Cost: 2174.0759\n",
      "Epoch: 046/5000 | Batch 040/2560 | kl_divergence: 5.2328 | pixelwise_bce: 2161.4236 | Cost: 2166.6565\n",
      "Epoch: 046/5000 | Batch 060/2560 | kl_divergence: 6.1525 | pixelwise_bce: 2138.2971 | Cost: 2144.4497\n",
      "Epoch: 046/5000 | Batch 080/2560 | kl_divergence: 7.5947 | pixelwise_bce: 2145.8413 | Cost: 2153.4360\n",
      "Epoch: 046/5000 | Batch 100/2560 | kl_divergence: 6.6372 | pixelwise_bce: 2142.6343 | Cost: 2149.2715\n",
      "Epoch: 046/5000 | Batch 120/2560 | kl_divergence: 5.4062 | pixelwise_bce: 2161.5059 | Cost: 2166.9121\n",
      "Epoch: 046/5000 | Batch 140/2560 | kl_divergence: 12.4759 | pixelwise_bce: 2154.3079 | Cost: 2166.7837\n",
      "Epoch: 046/5000 | Batch 160/2560 | kl_divergence: 4.7277 | pixelwise_bce: 2162.7473 | Cost: 2167.4751\n",
      "Epoch: 046/5000 | Batch 180/2560 | kl_divergence: 6.5369 | pixelwise_bce: 2149.2100 | Cost: 2155.7468\n",
      "Epoch: 046/5000 | Batch 200/2560 | kl_divergence: 5.7397 | pixelwise_bce: 2181.9595 | Cost: 2187.6992\n",
      "Epoch: 046/5000 | Batch 220/2560 | kl_divergence: 5.9843 | pixelwise_bce: 2162.2036 | Cost: 2168.1880\n",
      "Epoch: 046/5000 | Batch 240/2560 | kl_divergence: 5.7465 | pixelwise_bce: 2166.6697 | Cost: 2172.4163\n",
      "Epoch: 046/5000 | Batch 260/2560 | kl_divergence: 7.4940 | pixelwise_bce: 2137.7476 | Cost: 2145.2415\n",
      "Epoch: 046/5000 | Batch 280/2560 | kl_divergence: 5.6600 | pixelwise_bce: 2164.9861 | Cost: 2170.6462\n",
      "Epoch: 046/5000 | Batch 300/2560 | kl_divergence: 5.7785 | pixelwise_bce: 2157.4600 | Cost: 2163.2385\n",
      "Epoch: 046/5000 | Batch 320/2560 | kl_divergence: 7.7618 | pixelwise_bce: 2163.4060 | Cost: 2171.1677\n",
      "Epoch: 046/5000 | Batch 340/2560 | kl_divergence: 5.3340 | pixelwise_bce: 2160.8374 | Cost: 2166.1714\n",
      "Epoch: 046/5000 | Batch 360/2560 | kl_divergence: 9.6095 | pixelwise_bce: 2155.6133 | Cost: 2165.2227\n",
      "Epoch: 046/5000 | Batch 380/2560 | kl_divergence: 6.1366 | pixelwise_bce: 2163.2871 | Cost: 2169.4238\n",
      "Epoch: 046/5000 | Batch 400/2560 | kl_divergence: 3.7442 | pixelwise_bce: 2160.5430 | Cost: 2164.2871\n",
      "Epoch: 046/5000 | Batch 420/2560 | kl_divergence: 238.8049 | pixelwise_bce: 2149.6116 | Cost: 2388.4165\n"
     ]
    },
    {
     "ename": "RuntimeError",
     "evalue": "reduce failed to synchronize: device-side assert triggered",
     "output_type": "error",
     "traceback": [
      "\u001b[0;31m---------------------------------------------------------------------------\u001b[0m",
      "\u001b[0;31mRuntimeError\u001b[0m                              Traceback (most recent call last)",
      "\u001b[0;32m<ipython-input-91-0641e10aafb0>\u001b[0m in \u001b[0;36m<module>\u001b[0;34m\u001b[0m\n\u001b[1;32m     22\u001b[0m         \u001b[0mx_con\u001b[0m \u001b[0;34m=\u001b[0m \u001b[0mtorch\u001b[0m\u001b[0;34m.\u001b[0m\u001b[0mcat\u001b[0m\u001b[0;34m(\u001b[0m\u001b[0;34m(\u001b[0m\u001b[0mfeatures\u001b[0m\u001b[0;34m,\u001b[0m \u001b[0mto_onehot\u001b[0m\u001b[0;34m(\u001b[0m\u001b[0mtargets\u001b[0m\u001b[0;34m,\u001b[0m \u001b[0mnum_classes\u001b[0m\u001b[0;34m,\u001b[0m \u001b[0mdevice\u001b[0m\u001b[0;34m)\u001b[0m\u001b[0;34m)\u001b[0m\u001b[0;34m,\u001b[0m \u001b[0mdim\u001b[0m\u001b[0;34m=\u001b[0m\u001b[0;36m1\u001b[0m\u001b[0;34m)\u001b[0m\u001b[0;34m\u001b[0m\u001b[0m\n\u001b[1;32m     23\u001b[0m \u001b[0;34m\u001b[0m\u001b[0m\n\u001b[0;32m---> 24\u001b[0;31m         \u001b[0mpixelwise_bce\u001b[0m \u001b[0;34m=\u001b[0m \u001b[0mF\u001b[0m\u001b[0;34m.\u001b[0m\u001b[0mbinary_cross_entropy\u001b[0m\u001b[0;34m(\u001b[0m\u001b[0mdecoded\u001b[0m\u001b[0;34m,\u001b[0m \u001b[0mx_con\u001b[0m\u001b[0;34m,\u001b[0m \u001b[0mreduction\u001b[0m\u001b[0;34m=\u001b[0m\u001b[0;34m'sum'\u001b[0m\u001b[0;34m)\u001b[0m\u001b[0;34m\u001b[0m\u001b[0m\n\u001b[0m\u001b[1;32m     25\u001b[0m         \u001b[0mcost\u001b[0m \u001b[0;34m=\u001b[0m \u001b[0mkl_divergence\u001b[0m \u001b[0;34m+\u001b[0m \u001b[0mpixelwise_bce\u001b[0m\u001b[0;34m\u001b[0m\u001b[0m\n\u001b[1;32m     26\u001b[0m \u001b[0;34m\u001b[0m\u001b[0m\n",
      "\u001b[0;32m/usr/local/lib/python3.5/dist-packages/torch/nn/functional.py\u001b[0m in \u001b[0;36mbinary_cross_entropy\u001b[0;34m(input, target, weight, size_average, reduce, reduction)\u001b[0m\n\u001b[1;32m   2025\u001b[0m \u001b[0;34m\u001b[0m\u001b[0m\n\u001b[1;32m   2026\u001b[0m     return torch._C._nn.binary_cross_entropy(\n\u001b[0;32m-> 2027\u001b[0;31m         input, target, weight, reduction_enum)\n\u001b[0m\u001b[1;32m   2028\u001b[0m \u001b[0;34m\u001b[0m\u001b[0m\n\u001b[1;32m   2029\u001b[0m \u001b[0;34m\u001b[0m\u001b[0m\n",
      "\u001b[0;31mRuntimeError\u001b[0m: reduce failed to synchronize: device-side assert triggered"
     ]
    }
   ],
   "source": [
    "start_time = time.time()\n",
    "iters = int(256*40/batch_size)\n",
    "for epoch in range(start_epoch,num_epochs):\n",
    "    for batch_idx in range(iters):\n",
    "        features = train_datas_process[batch_idx*batch_size:(batch_idx+1)*batch_size]\n",
    "        targets = train_labels[batch_idx*batch_size:(batch_idx+1)*batch_size]\n",
    "        targets = np.transpose(targets)\n",
    "        features = torch.from_numpy(features)\n",
    "        targets = torch.from_numpy(targets)\n",
    "        features = features.to(device,torch.float32)\n",
    "        features = features.view(-1,28*28)\n",
    "        targets = targets.to(device,dtype=torch.int64)\n",
    "\n",
    "        ### FORWARD AND BACK PROP\n",
    "        z_mean, z_log_var, encoded, decoded = model(features, targets)\n",
    "\n",
    "        # cost = reconstruction loss + Kullback-Leibler divergence\n",
    "        kl_divergence = (0.5 * (z_mean**2 + \n",
    "                                torch.exp(z_log_var) - z_log_var - 1)).sum()\n",
    "        \n",
    "        # add condition\n",
    "        x_con = torch.cat((features, to_onehot(targets, num_classes, device)), dim=1)\n",
    "        \n",
    "        pixelwise_bce = F.binary_cross_entropy(decoded, x_con, reduction='sum')\n",
    "        cost = kl_divergence + pixelwise_bce\n",
    "        \n",
    "        optimizer.zero_grad()\n",
    "        cost.backward()\n",
    "        \n",
    "        ### UPDATE MODEL PARAMETERS\n",
    "        optimizer.step()\n",
    "        \n",
    "        ### LOGGING\n",
    "        if not batch_idx % 20:\n",
    "            print ('Epoch: %03d/%03d | Batch %03d/%03d | kl_divergence: %.4f | pixelwise_bce: %.4f | Cost: %.4f'  \n",
    "                   %(epoch+1, num_epochs, batch_idx, \n",
    "                     iters, kl_divergence, pixelwise_bce, cost))\n",
    "        \n",
    "    print('Time elapsed: %.2f min' % ((time.time() - start_time)/60))\n",
    "    \n",
    "print('Total Training Time: %.2f min' % ((time.time() - start_time)/60))"
   ]
  },
  {
   "cell_type": "code",
   "execution_count": 80,
   "metadata": {},
   "outputs": [
    {
     "name": "stdout",
     "output_type": "stream",
     "text": [
      "model_44.pth\n"
     ]
    }
   ],
   "source": [
    "state = {'net':model.state_dict(), 'optimizer':optimizer.state_dict(), 'epoch':epoch }\n",
    "dir_name = 'model_' + str(epoch) + '.pth'\n",
    "torch.save(state, dir_name)\n",
    "print (dir_name)"
   ]
  },
  {
   "cell_type": "code",
   "execution_count": 84,
   "metadata": {},
   "outputs": [
    {
     "data": {
      "text/plain": [
       "(256, 20)"
      ]
     },
     "execution_count": 84,
     "metadata": {},
     "output_type": "execute_result"
    }
   ],
   "source": [
    "# infer \n",
    "Batch = 64\n",
    "iters = 4\n",
    "val_datas_process = data_in_one(val_data[:iters*Batch])\n",
    "val_label = val_label[:iters*Batch]\n",
    "z_runs = []\n",
    "\n",
    "for batch_idx in range(iters):\n",
    "    features_val = val_datas_process[batch_idx*Batch:(batch_idx+1)*Batch]\n",
    "    targets_val = val_label[batch_idx*Batch:(batch_idx+1)*Batch]\n",
    "    targets_val = np.transpose(targets_val)\n",
    "    features_val = torch.from_numpy(features_val)\n",
    "    targets_val = torch.from_numpy(targets_val)\n",
    "    features_val = features_val.to(device,torch.float32)\n",
    "    features_val = features_val.view(-1,28*28)\n",
    "    targets_val = targets_val.to(device,dtype=torch.int64)\n",
    "\n",
    "    ### infer\n",
    "    z_mean, z_log_var, encoded, decoded = model(features_val, targets_val)\n",
    "    z_run = z_mean.to(torch.device('cpu'))\n",
    "    z_run = z_run.detach().numpy()\n",
    "    z_runs.append(z_run)\n",
    "\n",
    "z_runs = np.array(z_runs)\n",
    "z_runs = np.reshape(z_runs,(iters*Batch,num_latent))\n",
    "np.shape(z_runs)"
   ]
  },
  {
   "cell_type": "markdown",
   "metadata": {},
   "source": []
  },
  {
   "cell_type": "markdown",
   "metadata": {},
   "source": [
    "### Reconstruction"
   ]
  },
  {
   "cell_type": "code",
   "execution_count": 89,
   "metadata": {},
   "outputs": [
    {
     "name": "stdout",
     "output_type": "stream",
     "text": [
      "(256, 3)\n"
     ]
    },
    {
     "data": {
      "image/png": "[encoded data removed]",
      "text/plain": [
       "<Figure size 720x480 with 1 Axes>"
      ]
     },
     "metadata": {
      "needs_background": "light"
     },
     "output_type": "display_data"
    }
   ],
   "source": [
    "%matplotlib inline\n",
    "import matplotlib.pyplot as plt\n",
    "plt.rcParams['savefig.dpi'] = 120\n",
    "plt.rcParams['figure.dpi'] = 120\n",
    "\n",
    "# from sklearn.manifold import TSNE\n",
    "from sklearn.decomposition import TruncatedSVD\n",
    "\n",
    "#z_run = z_mean.to(torch.device('cpu'))\n",
    "#z_run = z_run.detach().numpy()\n",
    "PCA_model = TruncatedSVD(n_components=3).fit(z_runs)\n",
    "z_run_reduced = PCA_model.transform(z_runs)\n",
    "print (np.shape(z_run_reduced))\n",
    "ground_truth = targets_val.to(torch.device('cpu'))\n",
    "for k in range(Batch):\n",
    "    if ground_truth[k] ==1:\n",
    "#z_mean, z_log_var, encoded, decoded = model(features, targets)\n",
    "        plot1 = plt.scatter(z_run_reduced[k, 0], z_run_reduced[k, 1], c='b', marker='*', linewidths=0)\n",
    "    else:\n",
    "        plot2 = plt.scatter(z_run_reduced[k, 0], z_run_reduced[k, 1], c='r', marker='o', linewidths=0)        \n",
    "plt.legend([plot1, plot2],('normal','abnormal'), loc='best')\n",
    "plt.title('PCA on z_run')\n",
    "plt.grid()\n",
    "plt.show()"
   ]
  },
  {
   "cell_type": "code",
   "execution_count": 65,
   "metadata": {},
   "outputs": [
    {
     "data": {
      "image/png": "[encoded data removed]",
      "text/plain": [
       "<Figure size 720x480 with 1 Axes>"
      ]
     },
     "metadata": {
      "needs_background": "light"
     },
     "output_type": "display_data"
    }
   ],
   "source": [
    "def data_to_real(inputdata):\n",
    "    inputdata = inputdata * (inputdata.max()-inputdata.min()) + inputdata.min()\n",
    "#    inputdata = 2.0 * inputdata - 1.0\n",
    "    return inputdata\n",
    "\n",
    "#features1 = features.view(-1,28*28)\n",
    "input_data = features_val.to(torch.device('cpu'))\n",
    "input_data = input_data.detach().numpy()\n",
    "input_data = data_to_real(input_data)\n",
    "input_data = input_data[:,:783]\n",
    "de = model.decoder(z_mean, targets_val) # replace decoded by z_mean\n",
    "\n",
    "decoded_data = de.to(torch.device('cpu'))\n",
    "#decoded_data = decoded_data.view(-1,28*28)\n",
    "decoded_data = decoded_data.detach().numpy()\n",
    "decoded_data = data_to_real(decoded_data)\n",
    "decoded_data = decoded_data[:,:783]\n",
    "idxx = np.random.randint(0,batch_size-1)\n",
    "plt.plot(input_data[idxx],'b')\n",
    "plt.plot(decoded_data[idxx],'r')\n",
    "plt.grid()\n",
    "plt.show()"
   ]
  },
  {
   "cell_type": "markdown",
   "metadata": {},
   "source": [
    "### New random-conditional images"
   ]
  },
  {
   "cell_type": "code",
   "execution_count": 58,
   "metadata": {},
   "outputs": [
    {
     "ename": "RuntimeError",
     "evalue": "shape '[-1, 784]' is invalid for input of size 3930",
     "output_type": "error",
     "traceback": [
      "\u001b[0;31m---------------------------------------------------------------------------\u001b[0m",
      "\u001b[0;31mRuntimeError\u001b[0m                              Traceback (most recent call last)",
      "\u001b[0;32m<ipython-input-58-203aa5e1ec54>\u001b[0m in \u001b[0;36m<module>\u001b[0;34m\u001b[0m\n\u001b[1;32m      4\u001b[0m     \u001b[0mrand_features\u001b[0m \u001b[0;34m=\u001b[0m \u001b[0mtorch\u001b[0m\u001b[0;34m.\u001b[0m\u001b[0mrandn\u001b[0m\u001b[0;34m(\u001b[0m\u001b[0mn_images\u001b[0m\u001b[0;34m,\u001b[0m \u001b[0mnum_latent\u001b[0m\u001b[0;34m)\u001b[0m\u001b[0;34m.\u001b[0m\u001b[0mto\u001b[0m\u001b[0;34m(\u001b[0m\u001b[0mdevice\u001b[0m\u001b[0;34m)\u001b[0m\u001b[0;34m\u001b[0m\u001b[0m\n\u001b[1;32m      5\u001b[0m     \u001b[0mnew_te\u001b[0m \u001b[0;34m=\u001b[0m \u001b[0mmodel\u001b[0m\u001b[0;34m.\u001b[0m\u001b[0mdecoder\u001b[0m\u001b[0;34m(\u001b[0m\u001b[0mrand_features\u001b[0m\u001b[0;34m,\u001b[0m \u001b[0mlabels\u001b[0m\u001b[0;34m)\u001b[0m\u001b[0;34m\u001b[0m\u001b[0m\n\u001b[0;32m----> 6\u001b[0;31m     \u001b[0mnew_te\u001b[0m \u001b[0;34m=\u001b[0m \u001b[0mnew_te\u001b[0m\u001b[0;34m.\u001b[0m\u001b[0mview\u001b[0m\u001b[0;34m(\u001b[0m\u001b[0;34m-\u001b[0m\u001b[0;36m1\u001b[0m\u001b[0;34m,\u001b[0m\u001b[0;36m28\u001b[0m\u001b[0;34m*\u001b[0m\u001b[0;36m28\u001b[0m\u001b[0;34m)\u001b[0m\u001b[0;34m\u001b[0m\u001b[0m\n\u001b[0m\u001b[1;32m      7\u001b[0m     \u001b[0mcurr_te\u001b[0m \u001b[0;34m=\u001b[0m \u001b[0mnew_te\u001b[0m\u001b[0;34m.\u001b[0m\u001b[0mdetach\u001b[0m\u001b[0;34m(\u001b[0m\u001b[0;34m)\u001b[0m\u001b[0;34m.\u001b[0m\u001b[0mto\u001b[0m\u001b[0;34m(\u001b[0m\u001b[0mtorch\u001b[0m\u001b[0;34m.\u001b[0m\u001b[0mdevice\u001b[0m\u001b[0;34m(\u001b[0m\u001b[0;34m'cpu'\u001b[0m\u001b[0;34m)\u001b[0m\u001b[0;34m)\u001b[0m\u001b[0;34m\u001b[0m\u001b[0m\n\u001b[1;32m      8\u001b[0m     \u001b[0mcurr_te\u001b[0m \u001b[0;34m=\u001b[0m \u001b[0mcurr_te\u001b[0m\u001b[0;34m.\u001b[0m\u001b[0mdetach\u001b[0m\u001b[0;34m(\u001b[0m\u001b[0;34m)\u001b[0m\u001b[0;34m.\u001b[0m\u001b[0mnumpy\u001b[0m\u001b[0;34m(\u001b[0m\u001b[0;34m)\u001b[0m\u001b[0;34m\u001b[0m\u001b[0m\n",
      "\u001b[0;31mRuntimeError\u001b[0m: shape '[-1, 784]' is invalid for input of size 3930"
     ]
    }
   ],
   "source": [
    "for i in range(2):\n",
    "    labels = torch.tensor([i]*5).to(device)\n",
    "    n_images = labels.size()[0]\n",
    "    rand_features = torch.randn(n_images, num_latent).to(device)\n",
    "    new_te = model.decoder(rand_features, labels)\n",
    "    new_te = new_te.view(-1,28*28)\n",
    "    curr_te = new_te.detach().to(torch.device('cpu'))\n",
    "    curr_te = curr_te.detach().numpy()\n",
    "    curr_te = data_to_real(curr_te)\n",
    "    curr_te = curr_te[:,:783]\n",
    "    idxx = np.random.randint(0,5-1)\n",
    "    plt.plot(curr_te[idxx])\n",
    "    print('label')\n",
    "    print(label[idxx])\n",
    "    plt.grid()\n",
    "    plt.show()"
   ]
  },
  {
   "cell_type": "code",
   "execution_count": 8,
   "metadata": {},
   "outputs": [
    {
     "name": "stdout",
     "output_type": "stream",
     "text": [
      "numpy       1.15.4\n",
      "torch       1.0.0\n",
      "\n"
     ]
    }
   ],
   "source": [
    "%watermark -iv"
   ]
  }
 ],
 "metadata": {
  "kernelspec": {
   "display_name": "Python 3",
   "language": "python",
   "name": "python3"
  },
  "language_info": {
   "codemirror_mode": {
    "name": "ipython",
    "version": 3
   },
   "file_extension": ".py",
   "mimetype": "text/x-python",
   "name": "python",
   "nbconvert_exporter": "python",
   "pygments_lexer": "ipython3",
   "version": "3.5.2"
  },
  "toc": {
   "nav_menu": {},
   "number_sections": true,
   "sideBar": true,
   "skip_h1_title": false,
   "title_cell": "Table of Contents",
   "title_sidebar": "Contents",
   "toc_cell": false,
   "toc_position": {},
   "toc_section_display": true,
   "toc_window_display": false
  }
 },
 "nbformat": 4,
 "nbformat_minor": 2
}
