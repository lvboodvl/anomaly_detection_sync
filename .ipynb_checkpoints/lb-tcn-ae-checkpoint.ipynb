{
 "cells": [
  {
   "cell_type": "code",
   "execution_count": 1,
   "metadata": {},
   "outputs": [],
   "source": [
    "import time\n",
    "import numpy as np\n",
    "import torch\n",
    "import torch.nn.functional as F\n",
    "from torch.utils.data import DataLoader\n",
    "from torchvision import datasets\n",
    "from torchvision import transforms\n",
    "from torch.autograd import Variable\n",
    "from tcn import TemporalConvNet\n",
    "\n",
    "if torch.cuda.is_available():\n",
    "    torch.backends.cudnn.deterministic = True"
   ]
  },
  {
   "cell_type": "code",
   "execution_count": 23,
   "metadata": {},
   "outputs": [
    {
     "name": "stdout",
     "output_type": "stream",
     "text": [
      "Device: cuda:0\n"
     ]
    }
   ],
   "source": [
    "##########################\n",
    "### SETTINGS\n",
    "##########################\n",
    "\n",
    "# Device\n",
    "device = torch.device(\"cuda:0\" if torch.cuda.is_available() else \"cpu\")\n",
    "print('Device:', device)\n",
    "\n",
    "# Hyperparameters ///////////////////////////////////////////////////////////////////////////////////////////\n",
    "random_seed = 108\n",
    "learning_rate = 1e-2\n",
    "num_epochs = 100\n",
    "batch_size = 16\n",
    "#///////////////////////////////////////////////////////////////////////////////////////////\n",
    "\n",
    "# Architecture\n",
    "input_size = 1\n",
    "num_classes = 2\n",
    "#num_features = 784\n",
    "#hidden_size = 200 #500\n",
    "kernel_size = 7\n",
    "nhid = 25\n",
    "levels = 8\n",
    "num_channels = [nhid] * levels\n",
    "num_latent = 20\n",
    "dropout = 0.05"
   ]
  },
  {
   "cell_type": "code",
   "execution_count": 3,
   "metadata": {},
   "outputs": [
    {
     "name": "stdout",
     "output_type": "stream",
     "text": [
      "dataset cutting success!--------------------\n",
      "(5120, 784)\n",
      "preprocess---------------------------------------------\n",
      "mean:\n",
      "0.4958441418016039\n",
      "sigma:\n",
      "0.09133801977931186\n"
     ]
    }
   ],
   "source": [
    "# load dataset and cut it into train val part and shuffle them\n",
    "data = np.loadtxt('sync_detection_data_new.txt')\n",
    "label = np.loadtxt('sync_detection_label_new.txt')\n",
    "N, D = np.shape(data)\n",
    "label_int = np.zeros((N),dtype=int)\n",
    "for k in range(N):\n",
    "    label_int[k] = int(label[k])\n",
    "\n",
    "ratio_train = 0.8 # 0.7\n",
    "ind_cut = int(ratio_train * N)\n",
    "ind = np.random.permutation(N)\n",
    "train_data = data[ind[:ind_cut]]\n",
    "train_datas = train_data[:256*20]\n",
    "val_data = data[ind[ind_cut:]]\n",
    "\n",
    "train_label = label[ind[:ind_cut]]\n",
    "train_labels = train_label[:256*20]\n",
    "val_label = label[ind[ind_cut:]]\n",
    "print('dataset cutting success!--------------------')\n",
    "print(np.shape(train_datas))\n",
    "\n",
    "#mean = np.mean(train_datas)\n",
    "#var = np.var(train_datas)\n",
    "#print('preprocess----------------------------------')\n",
    "#print('mean:')\n",
    "#print(mean)\n",
    "#print('sigma:')\n",
    "#sigma = np.sqrt(var)\n",
    "#print(sigma)\n",
    "print('preprocess---------------------------------------------')\n",
    "# preprocessing is so important\n",
    "def data_in_one(inputdata):\n",
    "    inputdata = (inputdata-inputdata.min())/(inputdata.max()-inputdata.min())\n",
    "#    inputdata = 2.0 * inputdata - 1.0\n",
    "    return inputdata\n",
    "\n",
    "train_datas_process = data_in_one(train_data)\n",
    "mean = np.mean(train_datas_process)\n",
    "var = np.var(train_datas_process)\n",
    "print('mean:')\n",
    "print(mean)\n",
    "print('sigma:')\n",
    "sigma = np.sqrt(var)\n",
    "print(sigma)"
   ]
  },
  {
   "cell_type": "code",
   "execution_count": 8,
   "metadata": {},
   "outputs": [
    {
     "data": {
      "text/plain": [
       "(5120, 784)"
      ]
     },
     "execution_count": 8,
     "metadata": {},
     "output_type": "execute_result"
    }
   ],
   "source": [
    "np.shape(train_datas)"
   ]
  },
  {
   "cell_type": "code",
   "execution_count": 24,
   "metadata": {},
   "outputs": [
    {
     "name": "stdout",
     "output_type": "stream",
     "text": [
      "model----------------------------------------------------------------------------------\n"
     ]
    }
   ],
   "source": [
    "##########################\n",
    "### MODEL\n",
    "##########################\n",
    "print('model----------------------------------------------------------------------------------')\n",
    "\n",
    "class VariationalAutoencoder(torch.nn.Module):\n",
    "\n",
    "    def __init__(self, input_size, num_channels, kernel_size,num_latent, nhid, levels, dropout):\n",
    "        super(VariationalAutoencoder, self).__init__()\n",
    "        self.input_size = input_size\n",
    "        self.num_channels = num_channels\n",
    "        self.kernel_size = kernel_size\n",
    "        self.nhid =nhid\n",
    "        self.levels = levels\n",
    "        self.dropout = dropout\n",
    "        self.tcn_encoder = TemporalConvNet(input_size, num_channels, kernel_size=kernel_size, dropout=dropout)\n",
    "#        self.fc = nn.Linear(hidden_size, num_classes)        \n",
    "        ### ENCODER\n",
    "#        self.hidden_1 = torch.nn.Linear(num_features, num_hidden_1)\n",
    "        self.z_mean = torch.nn.Linear(num_channels[-1], num_latent)\n",
    "        # in the original paper (Kingma & Welling 2015, we use\n",
    "        # have a z_mean and z_var, but the problem is that\n",
    "        # the z_var can be negative, which would cause issues\n",
    "        # in the log later. Hence we assume that latent vector\n",
    "        # has a z_mean and z_log_var component, and when we need\n",
    "        # the regular variance or std_dev, we simply use \n",
    "        # an exponential function\n",
    "        self.z_log_var = torch.nn.Linear(num_channels[-1], num_latent)\n",
    "        \n",
    "        \n",
    "        ### DECODER\n",
    "        self.linear_3 = torch.nn.Linear(num_latent, nhid)\n",
    "        self.tcn_decoder = TemporalConvNet(input_size, [784]*levels, kernel_size=kernel_size, dropout=dropout)\n",
    "\n",
    "#        self.linear_4 = torch.nn.Linear(num_hidden_1, num_features)\n",
    "\n",
    "    def reparameterize(self, z_mu, z_log_var):\n",
    "        # Sample epsilon from standard normal distribution\n",
    "        eps = torch.randn(z_mu.size(0), z_mu.size(1)).to(device)\n",
    "        # note that log(x^2) = 2*log(x); hence divide by 2 to get std_dev\n",
    "        # i.e., std_dev = exp(log(std_dev^2)/2) = exp(log(var)/2)\n",
    "        z = z_mu + eps * torch.exp(z_log_var/2.) \n",
    "        return z\n",
    "        \n",
    "    def encoder(self, x):\n",
    "        x = self.tcn_encoder(x)\n",
    "        x = x[:, :, -1]\n",
    "        z_mean = self.z_mean(x)\n",
    "#        z_mean = F.leaky_relu(z_mean, negative_slope=0.0001)\n",
    "        z_log_var = self.z_log_var(x)\n",
    "#        z_log_var = F.leaky_relu(z_log_var, negative_slope=0.0001)\n",
    "        encoded = self.reparameterize(z_mean, z_log_var)\n",
    "        return z_mean, z_log_var, encoded\n",
    "    \n",
    "    def decoder(self, encoded):\n",
    "        x = self.linear_3(encoded)\n",
    "        x = x.contiguous().view(-1,1,nhid)\n",
    "#        x = F.leaky_relu(x, negative_slope=0.0001)\n",
    "        x = self.tcn_decoder(x)\n",
    "        x = x[:, :, -1]\n",
    "        x = torch.sigmoid(x) #0~1\n",
    "#        decoded = x.contiguous().view(-1,self.time_step,self.input_size)\n",
    "        decoded = x.contiguous().view(-1,1,784)\n",
    "        return decoded\n",
    "\n",
    "    def forward(self, x):\n",
    "        \n",
    "        z_mean, z_log_var, encoded = self.encoder(x)\n",
    "        decoded = self.decoder(encoded)\n",
    "#        decoded = decoded.contiguous().view(-1,784)\n",
    "        return z_mean, z_log_var, encoded, decoded\n",
    "   \n",
    "torch.manual_seed(random_seed)\n",
    "model = VariationalAutoencoder(input_size, num_channels, kernel_size,num_latent, nhid, levels, dropout)\n",
    "model = model.to(device)\n",
    "    \n",
    "optimizer = torch.optim.Adam(model.parameters(), lr=learning_rate)\n"
   ]
  },
  {
   "cell_type": "code",
   "execution_count": 25,
   "metadata": {},
   "outputs": [],
   "source": [
    "# dir_name = 'model_43.pth'\n",
    "resume_flag = False\n",
    "if (resume_flag==True):\n",
    "    checkpoint = torch.load(dir_name)\n",
    "    model.load_state_dict(checkpoint['net'])\n",
    "    optimizer.load_state_dict(checkpoint['optimizer'])\n",
    "    start_epoch = checkpoint['epoch'] + 1\n",
    "else:    \n",
    "    start_epoch = 0"
   ]
  },
  {
   "cell_type": "code",
   "execution_count": 26,
   "metadata": {},
   "outputs": [
    {
     "name": "stdout",
     "output_type": "stream",
     "text": [
      "training ----------------------------------------------------------\n",
      "Epoch: 001/100 | Batch 000/320 | kl_divergence: 52.9032 | pixelwise_bce: 9371.6377 | Cost: 9424.5410\n",
      "Epoch: 001/100 | Batch 040/320 | kl_divergence: 22.3436 | pixelwise_bce: 8704.7061 | Cost: 8727.0498\n",
      "Epoch: 001/100 | Batch 080/320 | kl_divergence: 19.2888 | pixelwise_bce: 8703.8750 | Cost: 8723.1641\n",
      "Epoch: 001/100 | Batch 120/320 | kl_divergence: 12.9793 | pixelwise_bce: 8719.5039 | Cost: 8732.4834\n",
      "Epoch: 001/100 | Batch 160/320 | kl_divergence: 10.5608 | pixelwise_bce: 8695.9688 | Cost: 8706.5293\n",
      "Epoch: 001/100 | Batch 200/320 | kl_divergence: 3.8441 | pixelwise_bce: 8694.8408 | Cost: 8698.6846\n",
      "Epoch: 001/100 | Batch 240/320 | kl_divergence: 0.7107 | pixelwise_bce: 8695.2109 | Cost: 8695.9219\n"
     ]
    },
    {
     "ename": "KeyboardInterrupt",
     "evalue": "",
     "output_type": "error",
     "traceback": [
      "\u001b[0;31m---------------------------------------------------------------------------\u001b[0m",
      "\u001b[0;31mKeyboardInterrupt\u001b[0m                         Traceback (most recent call last)",
      "\u001b[0;32m<ipython-input-26-6c83023faebf>\u001b[0m in \u001b[0;36m<module>\u001b[0;34m\u001b[0m\n\u001b[1;32m     28\u001b[0m         \u001b[0mcost\u001b[0m \u001b[0;34m=\u001b[0m \u001b[0mkl_divergence\u001b[0m \u001b[0;34m+\u001b[0m \u001b[0mpixelwise_bce\u001b[0m\u001b[0;34m\u001b[0m\u001b[0m\n\u001b[1;32m     29\u001b[0m         \u001b[0moptimizer\u001b[0m\u001b[0;34m.\u001b[0m\u001b[0mzero_grad\u001b[0m\u001b[0;34m(\u001b[0m\u001b[0;34m)\u001b[0m\u001b[0;34m\u001b[0m\u001b[0m\n\u001b[0;32m---> 30\u001b[0;31m         \u001b[0mcost\u001b[0m\u001b[0;34m.\u001b[0m\u001b[0mbackward\u001b[0m\u001b[0;34m(\u001b[0m\u001b[0;34m)\u001b[0m\u001b[0;34m\u001b[0m\u001b[0m\n\u001b[0m\u001b[1;32m     31\u001b[0m \u001b[0;34m\u001b[0m\u001b[0m\n\u001b[1;32m     32\u001b[0m         \u001b[0;31m### UPDATE MODEL PARAMETERS\u001b[0m\u001b[0;34m\u001b[0m\u001b[0;34m\u001b[0m\u001b[0m\n",
      "\u001b[0;32m/usr/local/lib/python3.5/dist-packages/torch/tensor.py\u001b[0m in \u001b[0;36mbackward\u001b[0;34m(self, gradient, retain_graph, create_graph)\u001b[0m\n\u001b[1;32m    100\u001b[0m                 \u001b[0mproducts\u001b[0m\u001b[0;34m.\u001b[0m \u001b[0mDefaults\u001b[0m \u001b[0mto\u001b[0m\u001b[0;31m \u001b[0m\u001b[0;31m`\u001b[0m\u001b[0;31m`\u001b[0m\u001b[0;32mFalse\u001b[0m\u001b[0;31m`\u001b[0m\u001b[0;31m`\u001b[0m\u001b[0;34m.\u001b[0m\u001b[0;34m\u001b[0m\u001b[0m\n\u001b[1;32m    101\u001b[0m         \"\"\"\n\u001b[0;32m--> 102\u001b[0;31m         \u001b[0mtorch\u001b[0m\u001b[0;34m.\u001b[0m\u001b[0mautograd\u001b[0m\u001b[0;34m.\u001b[0m\u001b[0mbackward\u001b[0m\u001b[0;34m(\u001b[0m\u001b[0mself\u001b[0m\u001b[0;34m,\u001b[0m \u001b[0mgradient\u001b[0m\u001b[0;34m,\u001b[0m \u001b[0mretain_graph\u001b[0m\u001b[0;34m,\u001b[0m \u001b[0mcreate_graph\u001b[0m\u001b[0;34m)\u001b[0m\u001b[0;34m\u001b[0m\u001b[0m\n\u001b[0m\u001b[1;32m    103\u001b[0m \u001b[0;34m\u001b[0m\u001b[0m\n\u001b[1;32m    104\u001b[0m     \u001b[0;32mdef\u001b[0m \u001b[0mregister_hook\u001b[0m\u001b[0;34m(\u001b[0m\u001b[0mself\u001b[0m\u001b[0;34m,\u001b[0m \u001b[0mhook\u001b[0m\u001b[0;34m)\u001b[0m\u001b[0;34m:\u001b[0m\u001b[0;34m\u001b[0m\u001b[0m\n",
      "\u001b[0;32m/usr/local/lib/python3.5/dist-packages/torch/autograd/__init__.py\u001b[0m in \u001b[0;36mbackward\u001b[0;34m(tensors, grad_tensors, retain_graph, create_graph, grad_variables)\u001b[0m\n\u001b[1;32m     88\u001b[0m     Variable._execution_engine.run_backward(\n\u001b[1;32m     89\u001b[0m         \u001b[0mtensors\u001b[0m\u001b[0;34m,\u001b[0m \u001b[0mgrad_tensors\u001b[0m\u001b[0;34m,\u001b[0m \u001b[0mretain_graph\u001b[0m\u001b[0;34m,\u001b[0m \u001b[0mcreate_graph\u001b[0m\u001b[0;34m,\u001b[0m\u001b[0;34m\u001b[0m\u001b[0m\n\u001b[0;32m---> 90\u001b[0;31m         allow_unreachable=True)  # allow_unreachable flag\n\u001b[0m\u001b[1;32m     91\u001b[0m \u001b[0;34m\u001b[0m\u001b[0m\n\u001b[1;32m     92\u001b[0m \u001b[0;34m\u001b[0m\u001b[0m\n",
      "\u001b[0;31mKeyboardInterrupt\u001b[0m: "
     ]
    }
   ],
   "source": [
    "print('training ----------------------------------------------------------')\n",
    "start_time = time.time()\n",
    "iters = int(256*20/batch_size)\n",
    "for epoch in range(start_epoch,num_epochs):\n",
    "    for batch_idx in range(iters):\n",
    "        features = train_datas_process[batch_idx*batch_size:(batch_idx+1)*batch_size]\n",
    "#        targets = train_labels[batch_idx*batch_size:(batch_idx+1)*batch_size]\n",
    "#        targets = np.transpose(targets)\n",
    "        features = torch.from_numpy(features)\n",
    "#        targets = torch.from_numpy(targets)\n",
    "        features = features.to(device,torch.float32)\n",
    "        features = features.view(-1, 1, 28*28)\n",
    "        f = Variable(features)\n",
    "#        targets = targets.to(device,dtype=torch.int64)\n",
    "\n",
    "        ### FORWARD AND BACK PROP\n",
    "        z_mean, z_log_var, encoded, decoded = model(f)\n",
    "\n",
    "        # cost = reconstruction loss + Kullback-Leibler divergence\n",
    "        kl_divergence = (0.5 * (z_mean**2 + \n",
    "                                torch.exp(z_log_var) - z_log_var - 1)).sum()\n",
    "        \n",
    "        # add condition\n",
    "#        x_con = torch.cat((features, to_onehot(targets, num_classes, device)), dim=1)\n",
    "        \n",
    "        pixelwise_bce = F.binary_cross_entropy(decoded, features, reduction='sum')\n",
    "#        pixelwise_bce = 0.0\n",
    "        cost = kl_divergence + pixelwise_bce\n",
    "        optimizer.zero_grad()\n",
    "        cost.backward()\n",
    "        \n",
    "        ### UPDATE MODEL PARAMETERS\n",
    "        optimizer.step()\n",
    "        \n",
    "        ### LOGGING\n",
    "        if not batch_idx % 40:\n",
    "            print ('Epoch: %03d/%03d | Batch %03d/%03d | kl_divergence: %.4f | pixelwise_bce: %.4f | Cost: %.4f'  \n",
    "                   %(epoch+1, num_epochs, batch_idx, \n",
    "                     iters, kl_divergence, pixelwise_bce, cost))\n",
    "        \n",
    "    print('Time elapsed: %.2f min' % ((time.time() - start_time)/60))\n",
    "    \n",
    "print('Total Training Time: %.2f min' % ((time.time() - start_time)/60))"
   ]
  },
  {
   "cell_type": "code",
   "execution_count": 12,
   "metadata": {},
   "outputs": [
    {
     "name": "stdout",
     "output_type": "stream",
     "text": [
      "model_tcn_2.pth\n",
      "done!------------------------------------------------------------------------------\n"
     ]
    }
   ],
   "source": [
    "state = {'net':model.state_dict(), 'optimizer':optimizer.state_dict(), 'epoch':epoch }\n",
    "dir_name = 'model_tcn_' + str(epoch) + '.pth'\n",
    "torch.save(state, dir_name)\n",
    "print (dir_name)\n",
    "print('done!------------------------------------------------------------------------------')"
   ]
  },
  {
   "cell_type": "code",
   "execution_count": 13,
   "metadata": {},
   "outputs": [
    {
     "data": {
      "text/plain": [
       "(640, 20)"
      ]
     },
     "execution_count": 13,
     "metadata": {},
     "output_type": "execute_result"
    }
   ],
   "source": [
    "# infer \n",
    "Batch = 64\n",
    "iters = 10 #13735/64 = 134\n",
    "val_datas_process = data_in_one(val_data[:iters*Batch])\n",
    "val_label = val_label[:iters*Batch]\n",
    "z_runs = []\n",
    "model.eval()\n",
    "for batch_idx in range(iters):\n",
    "    features_val = val_datas_process[batch_idx*Batch:(batch_idx+1)*Batch]\n",
    "#    targets_val = val_label[batch_idx*Batch:(batch_idx+1)*Batch]\n",
    "#    targets_val = np.transpose(targets_val)\n",
    "    features_val = torch.from_numpy(features_val)\n",
    "#    targets_val = torch.from_numpy(targets_val)\n",
    "    features_val = features_val.to(device,torch.float32)\n",
    "    features_val = features_val.view(-1,1,784)\n",
    "    features_val = Variable(features_val)\n",
    "#    targets_val = targets_val.to(device,dtype=torch.int64)\n",
    "\n",
    "    ### infer\n",
    "    z_mean, z_log_var, encoded, decoded = model(features_val)\n",
    "    z_run = z_mean.to(torch.device('cpu'))\n",
    "    z_run = z_run.detach().numpy()\n",
    "    z_runs.append(z_run)\n",
    "\n",
    "z_runs = np.array(z_runs)\n",
    "z_runs = np.reshape(z_runs,(iters*Batch,num_latent))\n",
    "np.shape(z_runs)"
   ]
  },
  {
   "cell_type": "code",
   "execution_count": 14,
   "metadata": {},
   "outputs": [
    {
     "name": "stdout",
     "output_type": "stream",
     "text": [
      "(640, 3)\n"
     ]
    },
    {
     "data": {
      "image/png": "[encoded data removed]",
      "text/plain": [
       "<Figure size 720x480 with 1 Axes>"
      ]
     },
     "metadata": {
      "needs_background": "light"
     },
     "output_type": "display_data"
    }
   ],
   "source": [
    "%matplotlib inline\n",
    "import matplotlib.pyplot as plt\n",
    "plt.rcParams['savefig.dpi'] = 120\n",
    "plt.rcParams['figure.dpi'] = 120\n",
    "\n",
    "# from sklearn.manifold import TSNE\n",
    "from sklearn.decomposition import TruncatedSVD\n",
    "\n",
    "#z_run = z_mean.to(torch.device('cpu'))\n",
    "#z_run = z_run.detach().numpy()\n",
    "PCA_model = TruncatedSVD(n_components=3).fit(z_runs)\n",
    "z_run_reduced = PCA_model.transform(z_runs)\n",
    "print (np.shape(z_run_reduced))\n",
    "#ground_truth = targets_val.to(torch.device('cpu'))\n",
    "ground_truth = val_label[:Batch*iters]\n",
    "for k in range(Batch*iters):\n",
    "    if ground_truth[k] ==1:\n",
    "#z_mean, z_log_var, encoded, decoded = model(features, targets)\n",
    "        plot1 = plt.scatter(z_run_reduced[k, 0], z_run_reduced[k, 1], c='b', marker='*', linewidths=0)\n",
    "    else:\n",
    "        plot2 = plt.scatter(z_run_reduced[k, 0], z_run_reduced[k, 1], c='r', marker='o', linewidths=0)        \n",
    "plt.legend([plot1, plot2],('normal','abnormal'), loc='best')\n",
    "plt.title('PCA on z_run')\n",
    "plt.grid()\n",
    "plt.show()"
   ]
  },
  {
   "cell_type": "code",
   "execution_count": 15,
   "metadata": {},
   "outputs": [],
   "source": [
    "# save latenct vecotor dim = 20\n",
    "np.savetxt('z_runs_20.txt',z_runs)\n",
    "np.savetxt('ground_truth_20.txt',ground_truth)"
   ]
  },
  {
   "cell_type": "code",
   "execution_count": 22,
   "metadata": {},
   "outputs": [
    {
     "name": "stdout",
     "output_type": "stream",
     "text": [
      "(64, 1, 784)\n"
     ]
    },
    {
     "data": {
      "image/png": "[encoded data removed]",
      "text/plain": [
       "<Figure size 432x288 with 1 Axes>"
      ]
     },
     "metadata": {
      "needs_background": "light"
     },
     "output_type": "display_data"
    }
   ],
   "source": [
    "def data_to_real(inputdata):\n",
    "    inputdata = inputdata * (inputdata.max()-inputdata.min()) + inputdata.min()\n",
    "#    inputdata = 2.0 * inputdata - 1.0\n",
    "    return inputdata\n",
    "\n",
    "#features1 = features.view(-1,28*28)\n",
    "input_data = features_val.to(torch.device('cpu'))\n",
    "input_data = input_data.detach().numpy()\n",
    "input_data = data_to_real(input_data)\n",
    "print(np.shape(input_data))\n",
    "input_data = np.reshape(input_data,(Batch,784))\n",
    "input_data = input_data[:,:783]\n",
    "de = model.decoder(encoded) # replace decoded by z_mean\n",
    "\n",
    "decoded_data = de.to(torch.device('cpu'))\n",
    "#decoded_data = decoded_data.view(-1,28*28)\n",
    "decoded_data = decoded_data.detach().numpy()\n",
    "decoded_data = data_to_real(decoded_data)\n",
    "decoded_data = np.reshape(decoded_data,(Batch,784))\n",
    "decoded_data = decoded_data[:,:783]\n",
    "idxx = np.random.randint(0,64)\n",
    "plt.plot(input_data[idxx],'b')\n",
    "plt.plot(decoded_data[idxx],'r')\n",
    "plt.grid()\n",
    "plt.show()"
   ]
  },
  {
   "cell_type": "code",
   "execution_count": null,
   "metadata": {},
   "outputs": [],
   "source": []
  }
 ],
 "metadata": {
  "kernelspec": {
   "display_name": "Python 3",
   "language": "python",
   "name": "python3"
  },
  "language_info": {
   "codemirror_mode": {
    "name": "ipython",
    "version": 3
   },
   "file_extension": ".py",
   "mimetype": "text/x-python",
   "name": "python",
   "nbconvert_exporter": "python",
   "pygments_lexer": "ipython3",
   "version": "3.5.2"
  }
 },
 "nbformat": 4,
 "nbformat_minor": 2
}
