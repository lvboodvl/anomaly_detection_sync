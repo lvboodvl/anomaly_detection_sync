{
 "cells": [
  {
   "cell_type": "code",
   "execution_count": 1,
   "metadata": {},
   "outputs": [],
   "source": [
    "from sklearn import svm  \n",
    "from sklearn import metrics  \n",
    "import pandas as pd   \n",
    "import numpy as np"
   ]
  },
  {
   "cell_type": "code",
   "execution_count": 2,
   "metadata": {},
   "outputs": [
    {
     "name": "stdout",
     "output_type": "stream",
     "text": [
      "(8320, 20)\n",
      "(8320,)\n"
     ]
    }
   ],
   "source": [
    "x = np.loadtxt('z_runs.txt')\n",
    "y = np.loadtxt('ground_truth.txt')\n",
    "print(np.shape(x))\n",
    "print(np.shape(y))"
   ]
  },
  {
   "cell_type": "code",
   "execution_count": 5,
   "metadata": {},
   "outputs": [],
   "source": [
    "def dataset_split(x,y,ratio=0.7):\n",
    "    N,D = np.shape(x)\n",
    "    ind_cut = int(ratio * N)\n",
    "    ind = np.random.permutation(N)\n",
    "    train_data = x[ind[:ind_cut]]\n",
    "    val_data = x[ind[ind_cut:]]\n",
    "    train_label = y[ind[:ind_cut]]\n",
    "    val_label = y[ind[ind_cut:]]\n",
    "    return train_data, train_label, val_data, val_label"
   ]
  },
  {
   "cell_type": "code",
   "execution_count": 6,
   "metadata": {},
   "outputs": [],
   "source": [
    "train_data, train_label, val_data, val_label = dataset_split(x,y)"
   ]
  },
  {
   "cell_type": "code",
   "execution_count": 7,
   "metadata": {},
   "outputs": [
    {
     "name": "stderr",
     "output_type": "stream",
     "text": [
      "/usr/local/lib/python3.5/dist-packages/sklearn/svm/base.py:196: FutureWarning: The default value of gamma will change from 'auto' to 'scale' in version 0.22 to account better for unscaled features. Set gamma explicitly to 'auto' or 'scale' to avoid this warning.\n",
      "  \"avoid this warning.\", FutureWarning)\n"
     ]
    },
    {
     "data": {
      "text/plain": [
       "SVC(C=1.0, cache_size=200, class_weight=None, coef0=0.0,\n",
       "  decision_function_shape='ovr', degree=3, gamma='auto_deprecated',\n",
       "  kernel='rbf', max_iter=-1, probability=True, random_state=None,\n",
       "  shrinking=True, tol=0.001, verbose=False)"
      ]
     },
     "execution_count": 7,
     "metadata": {},
     "output_type": "execute_result"
    }
   ],
   "source": [
    "clf = svm.SVC(probability=True)\n",
    "clf.fit(train_data, train_label)"
   ]
  },
  {
   "cell_type": "code",
   "execution_count": 8,
   "metadata": {},
   "outputs": [],
   "source": [
    "y_predict = clf.predict(val_data)"
   ]
  },
  {
   "cell_type": "code",
   "execution_count": 9,
   "metadata": {},
   "outputs": [],
   "source": [
    "def Get_Accuracy(y_true, y_pred): #Accuracy 准确率：分类器正确分类的样本数与总样本数之比 \n",
    "    accuracy = metrics.accuracy_score(y_true,y_pred)  \n",
    "    return accuracy\n",
    " \n",
    "def Get_Precision_score(y_true, y_pred): #Precision：精准率 正确被预测的正样本(TP)占所有被预测为正样本(TP+FP)的比例. \n",
    "    precision = metrics.precision_score(y_true,y_pred)  \n",
    "    return precision\n",
    " \n",
    "def Get_Recall(y_true, y_pred): #Recall 召回率 正确被预测的正样本(TP)占所有真正 正样本(TP+FN)的比例.  \n",
    "    Recall = metrics.recall_score(y_true,y_pred)  \n",
    "    return Recall \n",
    " \n",
    "def Get_f1_score(y_true, y_pred): #F1-score: 精确率(precision)和召回率(Recall)的调和平均数  \n",
    "    f1_score = metrics.f1_score(y_true,y_pred)  \n",
    "    return f1_score\n",
    " \n",
    "def Get_Auc_value(y_true,y_proba):  \n",
    "    #fpr, tpr, thresholds = metrics.roc_curve(samples_test_y, proba_pred_y, pos_label=2)    \n",
    "    auc = metrics.roc_auc_score(y_true, y_proba)  \n",
    "    return auc"
   ]
  },
  {
   "cell_type": "code",
   "execution_count": 10,
   "metadata": {},
   "outputs": [
    {
     "name": "stdout",
     "output_type": "stream",
     "text": [
      "[[0.97406276 0.02593724]\n",
      " [0.52026856 0.47973144]\n",
      " [0.38983354 0.61016646]\n",
      " ...\n",
      " [0.1828013  0.8171987 ]\n",
      " [0.24999763 0.75000237]\n",
      " [0.47294335 0.52705665]]\n"
     ]
    }
   ],
   "source": [
    "y_pred_probability = clf.predict_proba(val_data)  \n",
    "print(y_pred_probability) "
   ]
  },
  {
   "cell_type": "code",
   "execution_count": 12,
   "metadata": {},
   "outputs": [
    {
     "name": "stdout",
     "output_type": "stream",
     "text": [
      "[0.02593724 0.47973144 0.61016646 ... 0.8171987  0.75000237 0.52705665]\n"
     ]
    }
   ],
   "source": [
    "df2 = pd.DataFrame(y_pred_probability)  \n",
    "proba_pred_y = np.array(df2[1])  #截取样本点预测为正样本的预测概率\n",
    "# df2.to_csv(\"pred_probability.csv\")  \n",
    "# print(proba_pred_y)"
   ]
  },
  {
   "cell_type": "code",
   "execution_count": 13,
   "metadata": {},
   "outputs": [
    {
     "name": "stdout",
     "output_type": "stream",
     "text": [
      "SVM 模型打分: Score = 0.822917\n",
      "SVM Accuracy_Score = 0.822917\n",
      "SVM Precision = 0.755679\n",
      "SVM Recall = 0.999267\n",
      "SVM F1-Score  = 0.860568\n",
      "SVM AUC value: AUC = 0.872396\n"
     ]
    }
   ],
   "source": [
    "score = clf.score(val_data,val_label)  \n",
    "print(\"SVM 模型打分: Score = %f\"%score)  \n",
    "accuracy = Get_Accuracy(val_label,y_predict)\n",
    "print(\"SVM Accuracy_Score = %f\"%accuracy)  \n",
    "precision = Get_Precision_score(val_label,y_predict)\n",
    "print(\"SVM Precision = %f\"%precision)\n",
    "recall = Get_Recall(val_label,y_predict)\n",
    "print(\"SVM Recall = %f\"%recall) \n",
    "f1_score = Get_f1_score(val_label,y_predict)\n",
    "print(\"SVM F1-Score  = %f\"%f1_score) \n",
    "auc = Get_Auc_value(val_label, proba_pred_y)\n",
    "print(\"SVM AUC value: AUC = %f\"%auc)  "
   ]
  },
  {
   "cell_type": "code",
   "execution_count": null,
   "metadata": {},
   "outputs": [],
   "source": []
  }
 ],
 "metadata": {
  "kernelspec": {
   "display_name": "Python 3",
   "language": "python",
   "name": "python3"
  },
  "language_info": {
   "codemirror_mode": {
    "name": "ipython",
    "version": 3
   },
   "file_extension": ".py",
   "mimetype": "text/x-python",
   "name": "python",
   "nbconvert_exporter": "python",
   "pygments_lexer": "ipython3",
   "version": "3.5.2"
  }
 },
 "nbformat": 4,
 "nbformat_minor": 2
}
