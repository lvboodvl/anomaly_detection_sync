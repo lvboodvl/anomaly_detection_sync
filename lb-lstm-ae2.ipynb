{
 "cells": [
  {
   "cell_type": "code",
   "execution_count": 1,
   "metadata": {},
   "outputs": [],
   "source": [
    "import time\n",
    "import numpy as np\n",
    "import torch\n",
    "import torch.nn.functional as F\n",
    "from torch.utils.data import DataLoader\n",
    "from torchvision import datasets\n",
    "from torchvision import transforms\n",
    "from torch.autograd import Variable\n",
    "\n",
    "if torch.cuda.is_available():\n",
    "    torch.backends.cudnn.deterministic = True"
   ]
  },
  {
   "cell_type": "code",
   "execution_count": 9,
   "metadata": {},
   "outputs": [
    {
     "name": "stdout",
     "output_type": "stream",
     "text": [
      "Device: cuda:0\n"
     ]
    }
   ],
   "source": [
    "##########################\n",
    "### SETTINGS\n",
    "##########################\n",
    "\n",
    "# Device\n",
    "device = torch.device(\"cuda:0\" if torch.cuda.is_available() else \"cpu\")\n",
    "print('Device:', device)\n",
    "\n",
    "# Hyperparameters ///////////////////////////////////////////////////////////////////////////////////////////\n",
    "random_seed = 569\n",
    "learning_rate = 5e-3\n",
    "num_epochs = 1000\n",
    "batch_size = 64\n",
    "#///////////////////////////////////////////////////////////////////////////////////////////\n",
    "\n",
    "# Architecture\n",
    "input_size = 28*28\n",
    "num_classes = 2\n",
    "#num_features = 784\n",
    "hidden_size = 200 #500\n",
    "time_step = 1\n",
    "num_latent = 256\n",
    "num_layers = 2"
   ]
  },
  {
   "cell_type": "code",
   "execution_count": 3,
   "metadata": {},
   "outputs": [
    {
     "name": "stdout",
     "output_type": "stream",
     "text": [
      "dataset cutting success!--------------------\n",
      "(5120, 784)\n",
      "preprocess---------------------------------------------\n",
      "mean:\n",
      "0.5472063434966757\n",
      "sigma:\n",
      "0.08819448838148165\n"
     ]
    }
   ],
   "source": [
    "# load dataset and cut it into train val part and shuffle them\n",
    "data = np.loadtxt('sync_detection_data_new.txt')\n",
    "label = np.loadtxt('sync_detection_label_new.txt')\n",
    "N, D = np.shape(data)\n",
    "label_int = np.zeros((N),dtype=int)\n",
    "for k in range(N):\n",
    "    label_int[k] = int(label[k])\n",
    "\n",
    "ratio_train = 0.8 # 0.7\n",
    "ind_cut = int(ratio_train * N)\n",
    "ind = np.random.permutation(N)\n",
    "train_data = data[ind[:ind_cut]]\n",
    "train_datas = train_data[:256*20]\n",
    "val_data = data[ind[ind_cut:]]\n",
    "\n",
    "train_label = label[ind[:ind_cut]]\n",
    "train_labels = train_label[:256*20]\n",
    "val_label = label[ind[ind_cut:]]\n",
    "print('dataset cutting success!--------------------')\n",
    "print(np.shape(train_datas))\n",
    "\n",
    "#mean = np.mean(train_datas)\n",
    "#var = np.var(train_datas)\n",
    "#print('preprocess----------------------------------')\n",
    "#print('mean:')\n",
    "#print(mean)\n",
    "#print('sigma:')\n",
    "#sigma = np.sqrt(var)\n",
    "#print(sigma)\n",
    "print('preprocess---------------------------------------------')\n",
    "# preprocessing is so important\n",
    "def data_in_one(inputdata):\n",
    "    inputdata = (inputdata-inputdata.min())/(inputdata.max()-inputdata.min())\n",
    "#    inputdata = 2.0 * inputdata - 1.0\n",
    "    return inputdata\n",
    "\n",
    "train_datas_process = data_in_one(train_data)\n",
    "mean = np.mean(train_datas_process)\n",
    "var = np.var(train_datas_process)\n",
    "print('mean:')\n",
    "print(mean)\n",
    "print('sigma:')\n",
    "sigma = np.sqrt(var)\n",
    "print(sigma)"
   ]
  },
  {
   "cell_type": "code",
   "execution_count": 4,
   "metadata": {},
   "outputs": [
    {
     "data": {
      "text/plain": [
       "(1988, 784)"
      ]
     },
     "execution_count": 4,
     "metadata": {},
     "output_type": "execute_result"
    }
   ],
   "source": [
    "np.shape(val_data)"
   ]
  },
  {
   "cell_type": "code",
   "execution_count": 10,
   "metadata": {},
   "outputs": [
    {
     "name": "stdout",
     "output_type": "stream",
     "text": [
      "model----------------------------------------------------------------------------------\n"
     ]
    }
   ],
   "source": [
    "##########################\n",
    "### MODEL\n",
    "##########################\n",
    "print('model----------------------------------------------------------------------------------')\n",
    "\n",
    "class VariationalAutoencoder(torch.nn.Module):\n",
    "\n",
    "    def __init__(self, input_size, hidden_size, num_latent, time_step):\n",
    "        super(VariationalAutoencoder, self).__init__()\n",
    "        self.input_size = input_size\n",
    "        self.hidden_size = hidden_size\n",
    "        self.num_layers = num_layers\n",
    "        self.time_step = time_step\n",
    "        self.encoder_lstm = torch.nn.LSTM(input_size, hidden_size, num_layers, batch_first=True)\n",
    "#        self.fc = nn.Linear(hidden_size, num_classes)        \n",
    "        ### ENCODER\n",
    "#        self.hidden_1 = torch.nn.Linear(num_features, num_hidden_1)\n",
    "        self.z_mean = torch.nn.Linear(hidden_size, num_latent)\n",
    "        # in the original paper (Kingma & Welling 2015, we use\n",
    "        # have a z_mean and z_var, but the problem is that\n",
    "        # the z_var can be negative, which would cause issues\n",
    "        # in the log later. Hence we assume that latent vector\n",
    "        # has a z_mean and z_log_var component, and when we need\n",
    "        # the regular variance or std_dev, we simply use \n",
    "        # an exponential function\n",
    "        self.z_log_var = torch.nn.Linear(hidden_size, num_latent)\n",
    "        \n",
    "        \n",
    "        ### DECODER\n",
    "        self.linear_3 = torch.nn.Linear(num_latent, hidden_size*self.time_step)\n",
    "        self.decoder_lstm = torch.nn.LSTM(hidden_size, input_size*time_step, num_layers, batch_first=True)\n",
    "\n",
    "#        self.linear_4 = torch.nn.Linear(num_hidden_1, num_features)\n",
    "\n",
    "    def reparameterize(self, z_mu, z_log_var):\n",
    "        # Sample epsilon from standard normal distribution\n",
    "        eps = torch.randn(z_mu.size(0), z_mu.size(1)).to(device)\n",
    "        # note that log(x^2) = 2*log(x); hence divide by 2 to get std_dev\n",
    "        # i.e., std_dev = exp(log(std_dev^2)/2) = exp(log(var)/2)\n",
    "        z = z_mu + eps * torch.exp(z_log_var/2.) \n",
    "        return z\n",
    "        \n",
    "    def encoder(self, x):\n",
    "        h0 = torch.zeros(self.num_layers, x.size(0), self.hidden_size).to(device) \n",
    "        c0 = torch.zeros(self.num_layers, x.size(0), self.hidden_size).to(device)\n",
    "        x,_ = self.encoder_lstm(x, (h0, c0))\n",
    "        x = x[:, -1, :]\n",
    "        x = x.view(-1,self.hidden_size)\n",
    "        z_mean = self.z_mean(x)\n",
    "#        z_mean = F.leaky_relu(z_mean, negative_slope=0.0001)\n",
    "        z_log_var = self.z_log_var(x)\n",
    "#        z_log_var = F.leaky_relu(z_log_var, negative_slope=0.0001)\n",
    "        encoded = self.reparameterize(z_mean, z_log_var)\n",
    "        return z_mean, z_log_var, encoded\n",
    "    \n",
    "    def decoder(self, encoded):\n",
    "        x = self.linear_3(encoded)\n",
    "#        x = F.leaky_relu(x, negative_slope=0.0001)\n",
    "        x = x.view(-1,self.time_step, self.hidden_size)\n",
    "        h1 = torch.zeros(self.num_layers, x.size(0), self.input_size*self.time_step).to(device) \n",
    "        c1 = torch.zeros(self.num_layers, x.size(0), self.input_size*self.time_step).to(device)\n",
    "        x,_ = self.decoder_lstm(x,(h1,c1))\n",
    "        x = x[:,-1,:]\n",
    "        x = torch.sigmoid(x) #0~1\n",
    "        decoded = x.contiguous().view(-1,self.time_step,self.input_size)\n",
    "        return decoded\n",
    "\n",
    "    def forward(self, x):\n",
    "        \n",
    "        z_mean, z_log_var, encoded = self.encoder(x)\n",
    "        decoded = self.decoder(encoded)\n",
    "#        decoded = decoded.contiguous().view(-1,784)\n",
    "        return z_mean, z_log_var, encoded, decoded\n",
    "\n",
    "    \n",
    "torch.manual_seed(random_seed)\n",
    "model = VariationalAutoencoder(input_size, hidden_size, num_latent, time_step)\n",
    "model = model.to(device)\n",
    "    \n",
    "optimizer = torch.optim.Adam(model.parameters(), lr=learning_rate)\n"
   ]
  },
  {
   "cell_type": "code",
   "execution_count": 11,
   "metadata": {},
   "outputs": [],
   "source": [
    "# dir_name = 'model_43.pth'\n",
    "resume_flag = True\n",
    "if (resume_flag==True):\n",
    "    checkpoint = torch.load(dir_name)\n",
    "    model.load_state_dict(checkpoint['net'])\n",
    "    optimizer.load_state_dict(checkpoint['optimizer'])\n",
    "    start_epoch = checkpoint['epoch'] + 1\n",
    "else:    \n",
    "    start_epoch = 0"
   ]
  },
  {
   "cell_type": "code",
   "execution_count": 12,
   "metadata": {},
   "outputs": [
    {
     "name": "stdout",
     "output_type": "stream",
     "text": [
      "training ----------------------------------------------------------\n",
      "Epoch: 114/1000 | Batch 000/080 | kl_divergence: 123.3559 | pixelwise_bce: 34204.8867 | Cost: 34328.2422\n",
      "Epoch: 114/1000 | Batch 040/080 | kl_divergence: 138.6040 | pixelwise_bce: 34002.3984 | Cost: 34141.0039\n",
      "Time elapsed: 0.01 min\n",
      "Epoch: 115/1000 | Batch 000/080 | kl_divergence: 129.0942 | pixelwise_bce: 34168.6133 | Cost: 34297.7070\n",
      "Epoch: 115/1000 | Batch 040/080 | kl_divergence: 138.2298 | pixelwise_bce: 34029.7695 | Cost: 34168.0000\n",
      "Time elapsed: 0.02 min\n",
      "Epoch: 116/1000 | Batch 000/080 | kl_divergence: 127.3089 | pixelwise_bce: 34182.3320 | Cost: 34309.6406\n",
      "Epoch: 116/1000 | Batch 040/080 | kl_divergence: 131.1630 | pixelwise_bce: 34002.2969 | Cost: 34133.4609\n",
      "Time elapsed: 0.04 min\n",
      "Epoch: 117/1000 | Batch 000/080 | kl_divergence: 122.8279 | pixelwise_bce: 34211.4297 | Cost: 34334.2578\n",
      "Epoch: 117/1000 | Batch 040/080 | kl_divergence: 138.2602 | pixelwise_bce: 33969.7734 | Cost: 34108.0352\n",
      "Time elapsed: 0.05 min\n",
      "Epoch: 118/1000 | Batch 000/080 | kl_divergence: 122.5046 | pixelwise_bce: 34151.8047 | Cost: 34274.3086\n",
      "Epoch: 118/1000 | Batch 040/080 | kl_divergence: 144.6573 | pixelwise_bce: 33977.4141 | Cost: 34122.0703\n",
      "Time elapsed: 0.06 min\n",
      "Epoch: 119/1000 | Batch 000/080 | kl_divergence: 128.8218 | pixelwise_bce: 34177.6484 | Cost: 34306.4688\n",
      "Epoch: 119/1000 | Batch 040/080 | kl_divergence: 142.0675 | pixelwise_bce: 33980.0195 | Cost: 34122.0859\n",
      "Time elapsed: 0.07 min\n",
      "Epoch: 120/1000 | Batch 000/080 | kl_divergence: 126.6141 | pixelwise_bce: 34215.2031 | Cost: 34341.8164\n",
      "Epoch: 120/1000 | Batch 040/080 | kl_divergence: 132.3524 | pixelwise_bce: 33995.0078 | Cost: 34127.3594\n",
      "Time elapsed: 0.09 min\n",
      "Epoch: 121/1000 | Batch 000/080 | kl_divergence: 129.1677 | pixelwise_bce: 34169.6250 | Cost: 34298.7930\n",
      "Epoch: 121/1000 | Batch 040/080 | kl_divergence: 131.0614 | pixelwise_bce: 34017.1484 | Cost: 34148.2109\n",
      "Time elapsed: 0.10 min\n",
      "Epoch: 122/1000 | Batch 000/080 | kl_divergence: 121.5303 | pixelwise_bce: 34141.0469 | Cost: 34262.5781\n",
      "Epoch: 122/1000 | Batch 040/080 | kl_divergence: 132.9837 | pixelwise_bce: 34038.2188 | Cost: 34171.2031\n",
      "Time elapsed: 0.11 min\n",
      "Epoch: 123/1000 | Batch 000/080 | kl_divergence: 119.9945 | pixelwise_bce: 34169.9766 | Cost: 34289.9727\n",
      "Epoch: 123/1000 | Batch 040/080 | kl_divergence: 137.4472 | pixelwise_bce: 33986.7031 | Cost: 34124.1484\n",
      "Time elapsed: 0.12 min\n",
      "Epoch: 124/1000 | Batch 000/080 | kl_divergence: 128.4306 | pixelwise_bce: 34203.4648 | Cost: 34331.8945\n",
      "Epoch: 124/1000 | Batch 040/080 | kl_divergence: 140.2962 | pixelwise_bce: 33998.5000 | Cost: 34138.7969\n",
      "Time elapsed: 0.14 min\n",
      "Epoch: 125/1000 | Batch 000/080 | kl_divergence: 124.6845 | pixelwise_bce: 34190.9219 | Cost: 34315.6055\n",
      "Epoch: 125/1000 | Batch 040/080 | kl_divergence: 137.3254 | pixelwise_bce: 33995.1172 | Cost: 34132.4414\n",
      "Time elapsed: 0.15 min\n",
      "Epoch: 126/1000 | Batch 000/080 | kl_divergence: 116.9857 | pixelwise_bce: 34216.1602 | Cost: 34333.1445\n",
      "Epoch: 126/1000 | Batch 040/080 | kl_divergence: 143.8878 | pixelwise_bce: 33996.4609 | Cost: 34140.3477\n",
      "Time elapsed: 0.16 min\n",
      "Epoch: 127/1000 | Batch 000/080 | kl_divergence: 118.2632 | pixelwise_bce: 34202.5938 | Cost: 34320.8555\n",
      "Epoch: 127/1000 | Batch 040/080 | kl_divergence: 132.5102 | pixelwise_bce: 33998.1719 | Cost: 34130.6836\n",
      "Time elapsed: 0.17 min\n",
      "Epoch: 128/1000 | Batch 000/080 | kl_divergence: 137.3292 | pixelwise_bce: 34171.5859 | Cost: 34308.9141\n",
      "Epoch: 128/1000 | Batch 040/080 | kl_divergence: 147.7058 | pixelwise_bce: 33996.8672 | Cost: 34144.5742\n",
      "Time elapsed: 0.18 min\n",
      "Epoch: 129/1000 | Batch 000/080 | kl_divergence: 129.4770 | pixelwise_bce: 34162.5742 | Cost: 34292.0508\n",
      "Epoch: 129/1000 | Batch 040/080 | kl_divergence: 141.0789 | pixelwise_bce: 33989.2891 | Cost: 34130.3672\n",
      "Time elapsed: 0.20 min\n",
      "Epoch: 130/1000 | Batch 000/080 | kl_divergence: 136.5393 | pixelwise_bce: 34155.6680 | Cost: 34292.2070\n",
      "Epoch: 130/1000 | Batch 040/080 | kl_divergence: 134.3067 | pixelwise_bce: 34008.2734 | Cost: 34142.5820\n",
      "Time elapsed: 0.21 min\n",
      "Epoch: 131/1000 | Batch 000/080 | kl_divergence: 140.8187 | pixelwise_bce: 34199.1289 | Cost: 34339.9492\n",
      "Epoch: 131/1000 | Batch 040/080 | kl_divergence: 132.0560 | pixelwise_bce: 33984.8242 | Cost: 34116.8789\n",
      "Time elapsed: 0.22 min\n",
      "Epoch: 132/1000 | Batch 000/080 | kl_divergence: 132.4455 | pixelwise_bce: 34156.8477 | Cost: 34289.2930\n",
      "Epoch: 132/1000 | Batch 040/080 | kl_divergence: 139.7934 | pixelwise_bce: 33964.1250 | Cost: 34103.9180\n",
      "Time elapsed: 0.23 min\n",
      "Epoch: 133/1000 | Batch 000/080 | kl_divergence: 119.9826 | pixelwise_bce: 34191.3438 | Cost: 34311.3281\n",
      "Epoch: 133/1000 | Batch 040/080 | kl_divergence: 144.1818 | pixelwise_bce: 34029.7539 | Cost: 34173.9375\n",
      "Time elapsed: 0.25 min\n",
      "Epoch: 134/1000 | Batch 000/080 | kl_divergence: 126.6378 | pixelwise_bce: 34171.1328 | Cost: 34297.7695\n",
      "Epoch: 134/1000 | Batch 040/080 | kl_divergence: 130.0938 | pixelwise_bce: 33994.0469 | Cost: 34124.1406\n",
      "Time elapsed: 0.26 min\n",
      "Epoch: 135/1000 | Batch 000/080 | kl_divergence: 124.1844 | pixelwise_bce: 34216.0430 | Cost: 34340.2266\n",
      "Epoch: 135/1000 | Batch 040/080 | kl_divergence: 131.8174 | pixelwise_bce: 34009.4180 | Cost: 34141.2344\n",
      "Time elapsed: 0.27 min\n",
      "Epoch: 136/1000 | Batch 000/080 | kl_divergence: 130.6692 | pixelwise_bce: 34225.5547 | Cost: 34356.2227\n",
      "Epoch: 136/1000 | Batch 040/080 | kl_divergence: 139.6592 | pixelwise_bce: 33983.6836 | Cost: 34123.3438\n",
      "Time elapsed: 0.28 min\n",
      "Epoch: 137/1000 | Batch 000/080 | kl_divergence: 123.2292 | pixelwise_bce: 34167.2539 | Cost: 34290.4844\n",
      "Epoch: 137/1000 | Batch 040/080 | kl_divergence: 130.2446 | pixelwise_bce: 34010.5703 | Cost: 34140.8164\n",
      "Time elapsed: 0.29 min\n",
      "Epoch: 138/1000 | Batch 000/080 | kl_divergence: 120.0455 | pixelwise_bce: 34172.2461 | Cost: 34292.2930\n",
      "Epoch: 138/1000 | Batch 040/080 | kl_divergence: 148.7551 | pixelwise_bce: 33964.2656 | Cost: 34113.0195\n",
      "Time elapsed: 0.31 min\n",
      "Epoch: 139/1000 | Batch 000/080 | kl_divergence: 132.9585 | pixelwise_bce: 34244.2812 | Cost: 34377.2383\n",
      "Epoch: 139/1000 | Batch 040/080 | kl_divergence: 134.8137 | pixelwise_bce: 33951.7773 | Cost: 34086.5898\n",
      "Time elapsed: 0.32 min\n",
      "Epoch: 140/1000 | Batch 000/080 | kl_divergence: 123.7271 | pixelwise_bce: 34173.3867 | Cost: 34297.1133\n",
      "Epoch: 140/1000 | Batch 040/080 | kl_divergence: 138.2302 | pixelwise_bce: 33982.3477 | Cost: 34120.5781\n",
      "Time elapsed: 0.33 min\n",
      "Epoch: 141/1000 | Batch 000/080 | kl_divergence: 118.0550 | pixelwise_bce: 34229.2070 | Cost: 34347.2617\n",
      "Epoch: 141/1000 | Batch 040/080 | kl_divergence: 134.0941 | pixelwise_bce: 33980.7695 | Cost: 34114.8633\n",
      "Time elapsed: 0.34 min\n",
      "Epoch: 142/1000 | Batch 000/080 | kl_divergence: 135.5472 | pixelwise_bce: 34171.9688 | Cost: 34307.5156\n",
      "Epoch: 142/1000 | Batch 040/080 | kl_divergence: 132.2472 | pixelwise_bce: 33977.7227 | Cost: 34109.9688\n",
      "Time elapsed: 0.36 min\n",
      "Epoch: 143/1000 | Batch 000/080 | kl_divergence: 113.6407 | pixelwise_bce: 34195.2266 | Cost: 34308.8672\n",
      "Epoch: 143/1000 | Batch 040/080 | kl_divergence: 131.1337 | pixelwise_bce: 33989.0312 | Cost: 34120.1641\n"
     ]
    },
    {
     "ename": "KeyboardInterrupt",
     "evalue": "",
     "output_type": "error",
     "traceback": [
      "\u001b[0;31m---------------------------------------------------------------------------\u001b[0m",
      "\u001b[0;31mKeyboardInterrupt\u001b[0m                         Traceback (most recent call last)",
      "\u001b[0;32m<ipython-input-12-3f148a00e09f>\u001b[0m in \u001b[0;36m<module>\u001b[0;34m\u001b[0m\n\u001b[1;32m     28\u001b[0m         \u001b[0mcost\u001b[0m \u001b[0;34m=\u001b[0m \u001b[0mkl_divergence\u001b[0m \u001b[0;34m+\u001b[0m \u001b[0mpixelwise_bce\u001b[0m\u001b[0;34m\u001b[0m\u001b[0m\n\u001b[1;32m     29\u001b[0m         \u001b[0moptimizer\u001b[0m\u001b[0;34m.\u001b[0m\u001b[0mzero_grad\u001b[0m\u001b[0;34m(\u001b[0m\u001b[0;34m)\u001b[0m\u001b[0;34m\u001b[0m\u001b[0m\n\u001b[0;32m---> 30\u001b[0;31m         \u001b[0mcost\u001b[0m\u001b[0;34m.\u001b[0m\u001b[0mbackward\u001b[0m\u001b[0;34m(\u001b[0m\u001b[0;34m)\u001b[0m\u001b[0;34m\u001b[0m\u001b[0m\n\u001b[0m\u001b[1;32m     31\u001b[0m \u001b[0;34m\u001b[0m\u001b[0m\n\u001b[1;32m     32\u001b[0m         \u001b[0;31m### UPDATE MODEL PARAMETERS\u001b[0m\u001b[0;34m\u001b[0m\u001b[0;34m\u001b[0m\u001b[0m\n",
      "\u001b[0;32m/usr/local/lib/python3.5/dist-packages/torch/tensor.py\u001b[0m in \u001b[0;36mbackward\u001b[0;34m(self, gradient, retain_graph, create_graph)\u001b[0m\n\u001b[1;32m    100\u001b[0m                 \u001b[0mproducts\u001b[0m\u001b[0;34m.\u001b[0m \u001b[0mDefaults\u001b[0m \u001b[0mto\u001b[0m\u001b[0;31m \u001b[0m\u001b[0;31m`\u001b[0m\u001b[0;31m`\u001b[0m\u001b[0;32mFalse\u001b[0m\u001b[0;31m`\u001b[0m\u001b[0;31m`\u001b[0m\u001b[0;34m.\u001b[0m\u001b[0;34m\u001b[0m\u001b[0m\n\u001b[1;32m    101\u001b[0m         \"\"\"\n\u001b[0;32m--> 102\u001b[0;31m         \u001b[0mtorch\u001b[0m\u001b[0;34m.\u001b[0m\u001b[0mautograd\u001b[0m\u001b[0;34m.\u001b[0m\u001b[0mbackward\u001b[0m\u001b[0;34m(\u001b[0m\u001b[0mself\u001b[0m\u001b[0;34m,\u001b[0m \u001b[0mgradient\u001b[0m\u001b[0;34m,\u001b[0m \u001b[0mretain_graph\u001b[0m\u001b[0;34m,\u001b[0m \u001b[0mcreate_graph\u001b[0m\u001b[0;34m)\u001b[0m\u001b[0;34m\u001b[0m\u001b[0m\n\u001b[0m\u001b[1;32m    103\u001b[0m \u001b[0;34m\u001b[0m\u001b[0m\n\u001b[1;32m    104\u001b[0m     \u001b[0;32mdef\u001b[0m \u001b[0mregister_hook\u001b[0m\u001b[0;34m(\u001b[0m\u001b[0mself\u001b[0m\u001b[0;34m,\u001b[0m \u001b[0mhook\u001b[0m\u001b[0;34m)\u001b[0m\u001b[0;34m:\u001b[0m\u001b[0;34m\u001b[0m\u001b[0m\n",
      "\u001b[0;32m/usr/local/lib/python3.5/dist-packages/torch/autograd/__init__.py\u001b[0m in \u001b[0;36mbackward\u001b[0;34m(tensors, grad_tensors, retain_graph, create_graph, grad_variables)\u001b[0m\n\u001b[1;32m     88\u001b[0m     Variable._execution_engine.run_backward(\n\u001b[1;32m     89\u001b[0m         \u001b[0mtensors\u001b[0m\u001b[0;34m,\u001b[0m \u001b[0mgrad_tensors\u001b[0m\u001b[0;34m,\u001b[0m \u001b[0mretain_graph\u001b[0m\u001b[0;34m,\u001b[0m \u001b[0mcreate_graph\u001b[0m\u001b[0;34m,\u001b[0m\u001b[0;34m\u001b[0m\u001b[0m\n\u001b[0;32m---> 90\u001b[0;31m         allow_unreachable=True)  # allow_unreachable flag\n\u001b[0m\u001b[1;32m     91\u001b[0m \u001b[0;34m\u001b[0m\u001b[0m\n\u001b[1;32m     92\u001b[0m \u001b[0;34m\u001b[0m\u001b[0m\n",
      "\u001b[0;31mKeyboardInterrupt\u001b[0m: "
     ]
    }
   ],
   "source": [
    "print('training ----------------------------------------------------------')\n",
    "start_time = time.time()\n",
    "iters = int(256*20/batch_size)\n",
    "for epoch in range(start_epoch,num_epochs):\n",
    "    for batch_idx in range(iters):\n",
    "        features = train_datas_process[batch_idx*batch_size:(batch_idx+1)*batch_size]\n",
    "#        targets = train_labels[batch_idx*batch_size:(batch_idx+1)*batch_size]\n",
    "#        targets = np.transpose(targets)\n",
    "        features = torch.from_numpy(features)\n",
    "#        targets = torch.from_numpy(targets)\n",
    "        features = features.to(device,torch.float32)\n",
    "        features = features.view(-1, time_step, input_size)\n",
    "        f = Variable(features)\n",
    "#        targets = targets.to(device,dtype=torch.int64)\n",
    "\n",
    "        ### FORWARD AND BACK PROP\n",
    "        z_mean, z_log_var, encoded, decoded = model(f)\n",
    "\n",
    "        # cost = reconstruction loss + Kullback-Leibler divergence\n",
    "        kl_divergence = (0.5 * (z_mean**2 + \n",
    "                                torch.exp(z_log_var) - z_log_var - 1)).sum()\n",
    "        \n",
    "        # add condition\n",
    "#        x_con = torch.cat((features, to_onehot(targets, num_classes, device)), dim=1)\n",
    "        \n",
    "        pixelwise_bce = F.binary_cross_entropy(decoded, features, reduction='sum')\n",
    "#        pixelwise_bce = 0.0\n",
    "        cost = kl_divergence + pixelwise_bce\n",
    "        optimizer.zero_grad()\n",
    "        cost.backward()\n",
    "        \n",
    "        ### UPDATE MODEL PARAMETERS\n",
    "        optimizer.step()\n",
    "        \n",
    "        ### LOGGING\n",
    "        if not batch_idx % 40:\n",
    "            print ('Epoch: %03d/%03d | Batch %03d/%03d | kl_divergence: %.4f | pixelwise_bce: %.4f | Cost: %.4f'  \n",
    "                   %(epoch+1, num_epochs, batch_idx, \n",
    "                     iters, kl_divergence, pixelwise_bce, cost))\n",
    "        \n",
    "    print('Time elapsed: %.2f min' % ((time.time() - start_time)/60))\n",
    "    \n",
    "print('Total Training Time: %.2f min' % ((time.time() - start_time)/60))"
   ]
  },
  {
   "cell_type": "code",
   "execution_count": 8,
   "metadata": {},
   "outputs": [
    {
     "name": "stdout",
     "output_type": "stream",
     "text": [
      "model_lstm_112.pth\n",
      "done!------------------------------------------------------------------------------\n"
     ]
    }
   ],
   "source": [
    "state = {'net':model.state_dict(), 'optimizer':optimizer.state_dict(), 'epoch':epoch }\n",
    "dir_name = 'model_lstm_' + str(epoch) + '.pth'\n",
    "torch.save(state, dir_name)\n",
    "print (dir_name)\n",
    "print('done!------------------------------------------------------------------------------')"
   ]
  },
  {
   "cell_type": "code",
   "execution_count": 1,
   "metadata": {},
   "outputs": [
    {
     "ename": "NameError",
     "evalue": "name 'data_in_one' is not defined",
     "output_type": "error",
     "traceback": [
      "\u001b[0;31m---------------------------------------------------------------------------\u001b[0m",
      "\u001b[0;31mNameError\u001b[0m                                 Traceback (most recent call last)",
      "\u001b[0;32m<ipython-input-1-1184caf86aad>\u001b[0m in \u001b[0;36m<module>\u001b[0;34m\u001b[0m\n\u001b[1;32m      2\u001b[0m \u001b[0mBatch\u001b[0m \u001b[0;34m=\u001b[0m \u001b[0;36m64\u001b[0m\u001b[0;34m\u001b[0m\u001b[0m\n\u001b[1;32m      3\u001b[0m \u001b[0miters\u001b[0m \u001b[0;34m=\u001b[0m \u001b[0;36m40\u001b[0m \u001b[0;31m#13735/64 = 134\u001b[0m\u001b[0;34m\u001b[0m\u001b[0m\n\u001b[0;32m----> 4\u001b[0;31m \u001b[0mval_datas_process\u001b[0m \u001b[0;34m=\u001b[0m \u001b[0mdata_in_one\u001b[0m\u001b[0;34m(\u001b[0m\u001b[0mval_data\u001b[0m\u001b[0;34m[\u001b[0m\u001b[0;34m:\u001b[0m\u001b[0miters\u001b[0m\u001b[0;34m*\u001b[0m\u001b[0mBatch\u001b[0m\u001b[0;34m]\u001b[0m\u001b[0;34m)\u001b[0m\u001b[0;34m\u001b[0m\u001b[0m\n\u001b[0m\u001b[1;32m      5\u001b[0m \u001b[0mval_label\u001b[0m \u001b[0;34m=\u001b[0m \u001b[0mval_label\u001b[0m\u001b[0;34m[\u001b[0m\u001b[0;34m:\u001b[0m\u001b[0miters\u001b[0m\u001b[0;34m*\u001b[0m\u001b[0mBatch\u001b[0m\u001b[0;34m]\u001b[0m\u001b[0;34m\u001b[0m\u001b[0m\n\u001b[1;32m      6\u001b[0m \u001b[0mz_runs\u001b[0m \u001b[0;34m=\u001b[0m \u001b[0;34m[\u001b[0m\u001b[0;34m]\u001b[0m\u001b[0;34m\u001b[0m\u001b[0m\n",
      "\u001b[0;31mNameError\u001b[0m: name 'data_in_one' is not defined"
     ]
    }
   ],
   "source": [
    "# infer \n",
    "Batch = 64\n",
    "iters = 40 #13735/64 = 134\n",
    "val_datas_process = data_in_one(val_data[:iters*Batch])\n",
    "val_label = val_label[:iters*Batch]\n",
    "z_runs = []\n",
    "model.eval()\n",
    "for batch_idx in range(iters):\n",
    "    features_val = val_datas_process[batch_idx*Batch:(batch_idx+1)*Batch]\n",
    "#    targets_val = val_label[batch_idx*Batch:(batch_idx+1)*Batch]\n",
    "#    targets_val = np.transpose(targets_val)\n",
    "    features_val = torch.from_numpy(features_val)\n",
    "#    targets_val = torch.from_numpy(targets_val)\n",
    "    features_val = features_val.to(device,torch.float32)\n",
    "    features_val = features_val.view(-1,time_step,input_size)\n",
    "    features_val = Variable(features_val)\n",
    "#    targets_val = targets_val.to(device,dtype=torch.int64)\n",
    "\n",
    "    ### infer\n",
    "    z_mean, z_log_var, encoded, decoded = model(features_val)\n",
    "    z_run = z_mean.to(torch.device('cpu'))\n",
    "    z_run = z_run.detach().numpy()\n",
    "    z_runs.append(z_run)\n",
    "\n",
    "z_runs = np.array(z_runs)\n",
    "z_runs = np.reshape(z_runs,(iters*Batch,num_latent))\n",
    "np.shape(z_runs)"
   ]
  },
  {
   "cell_type": "code",
   "execution_count": 14,
   "metadata": {},
   "outputs": [
    {
     "name": "stdout",
     "output_type": "stream",
     "text": [
      "(1280, 3)\n"
     ]
    },
    {
     "data": {
      "image/png": "[encoded data removed]",
      "text/plain": [
       "<Figure size 720x480 with 1 Axes>"
      ]
     },
     "metadata": {
      "needs_background": "light"
     },
     "output_type": "display_data"
    }
   ],
   "source": [
    "%matplotlib inline\n",
    "import matplotlib.pyplot as plt\n",
    "plt.rcParams['savefig.dpi'] = 120\n",
    "plt.rcParams['figure.dpi'] = 120\n",
    "\n",
    "# from sklearn.manifold import TSNE\n",
    "from sklearn.decomposition import TruncatedSVD\n",
    "\n",
    "#z_run = z_mean.to(torch.device('cpu'))\n",
    "#z_run = z_run.detach().numpy()\n",
    "PCA_model = TruncatedSVD(n_components=3).fit(z_runs)\n",
    "z_run_reduced = PCA_model.transform(z_runs)\n",
    "print (np.shape(z_run_reduced))\n",
    "#ground_truth = targets_val.to(torch.device('cpu'))\n",
    "ground_truth = val_label[:Batch*iters]\n",
    "for k in range(Batch*iters):\n",
    "    if ground_truth[k] ==1:\n",
    "#z_mean, z_log_var, encoded, decoded = model(features, targets)\n",
    "        plot1 = plt.scatter(z_run_reduced[k, 0], z_run_reduced[k, 1], c='b', marker='*', linewidths=0)\n",
    "    else:\n",
    "        plot2 = plt.scatter(z_run_reduced[k, 0], z_run_reduced[k, 1], c='r', marker='o', linewidths=0)        \n",
    "plt.legend([plot1, plot2],('normal','abnormal'), loc='best')\n",
    "plt.title('PCA on z_run')\n",
    "plt.grid()\n",
    "plt.show()"
   ]
  },
  {
   "cell_type": "code",
   "execution_count": 25,
   "metadata": {},
   "outputs": [],
   "source": [
    "# save latenct vecotor dim = 20\n",
    "np.savetxt('z_runs_136966_256.txt',z_runs)\n",
    "np.savetxt('ground_truth_13696.txt',ground_truth)"
   ]
  },
  {
   "cell_type": "code",
   "execution_count": 2,
   "metadata": {},
   "outputs": [
    {
     "ename": "NameError",
     "evalue": "name 'features_val' is not defined",
     "output_type": "error",
     "traceback": [
      "\u001b[0;31m---------------------------------------------------------------------------\u001b[0m",
      "\u001b[0;31mNameError\u001b[0m                                 Traceback (most recent call last)",
      "\u001b[0;32m<ipython-input-2-e2f4404fc1c4>\u001b[0m in \u001b[0;36m<module>\u001b[0;34m\u001b[0m\n\u001b[1;32m      5\u001b[0m \u001b[0;34m\u001b[0m\u001b[0m\n\u001b[1;32m      6\u001b[0m \u001b[0;31m#features1 = features.view(-1,28*28)\u001b[0m\u001b[0;34m\u001b[0m\u001b[0;34m\u001b[0m\u001b[0m\n\u001b[0;32m----> 7\u001b[0;31m \u001b[0minput_data\u001b[0m \u001b[0;34m=\u001b[0m \u001b[0mfeatures_val\u001b[0m\u001b[0;34m.\u001b[0m\u001b[0mto\u001b[0m\u001b[0;34m(\u001b[0m\u001b[0mtorch\u001b[0m\u001b[0;34m.\u001b[0m\u001b[0mdevice\u001b[0m\u001b[0;34m(\u001b[0m\u001b[0;34m'cpu'\u001b[0m\u001b[0;34m)\u001b[0m\u001b[0;34m)\u001b[0m\u001b[0;34m\u001b[0m\u001b[0m\n\u001b[0m\u001b[1;32m      8\u001b[0m \u001b[0minput_data\u001b[0m \u001b[0;34m=\u001b[0m \u001b[0minput_data\u001b[0m\u001b[0;34m.\u001b[0m\u001b[0mdetach\u001b[0m\u001b[0;34m(\u001b[0m\u001b[0;34m)\u001b[0m\u001b[0;34m.\u001b[0m\u001b[0mnumpy\u001b[0m\u001b[0;34m(\u001b[0m\u001b[0;34m)\u001b[0m\u001b[0;34m\u001b[0m\u001b[0m\n\u001b[1;32m      9\u001b[0m \u001b[0minput_data\u001b[0m \u001b[0;34m=\u001b[0m \u001b[0mdata_to_real\u001b[0m\u001b[0;34m(\u001b[0m\u001b[0minput_data\u001b[0m\u001b[0;34m)\u001b[0m\u001b[0;34m\u001b[0m\u001b[0m\n",
      "\u001b[0;31mNameError\u001b[0m: name 'features_val' is not defined"
     ]
    }
   ],
   "source": [
    "def data_to_real(inputdata):\n",
    "    inputdata = inputdata * (inputdata.max()-inputdata.min()) + inputdata.min()\n",
    "#    inputdata = 2.0 * inputdata - 1.0\n",
    "    return inputdata\n",
    "\n",
    "#features1 = features.view(-1,28*28)\n",
    "input_data = features_val.to(torch.device('cpu'))\n",
    "input_data = input_data.detach().numpy()\n",
    "input_data = data_to_real(input_data)\n",
    "print(np.shape(input_data))\n",
    "input_data = np.reshape(input_data,(Batch,784))\n",
    "input_data = input_data[:,:783]\n",
    "de = model.decoder(encoded) # replace decoded by z_mean\n",
    "\n",
    "decoded_data = de.to(torch.device('cpu'))\n",
    "#decoded_data = decoded_data.view(-1,28*28)\n",
    "decoded_data = decoded_data.detach().numpy()\n",
    "decoded_data = data_to_real(decoded_data)\n",
    "decoded_data = np.reshape(decoded_data,(Batch,784))\n",
    "decoded_data = decoded_data[:,:783]\n",
    "idxx = np.random.randint(0,64)\n",
    "plt.plot(input_data[idxx],'b')\n",
    "plt.plot(decoded_data[idxx],'r')\n",
    "plt.grid()\n",
    "plt.show()"
   ]
  },
  {
   "cell_type": "code",
   "execution_count": null,
   "metadata": {},
   "outputs": [],
   "source": []
  }
 ],
 "metadata": {
  "kernelspec": {
   "display_name": "Python 3",
   "language": "python",
   "name": "python3"
  },
  "language_info": {
   "codemirror_mode": {
    "name": "ipython",
    "version": 3
   },
   "file_extension": ".py",
   "mimetype": "text/x-python",
   "name": "python",
   "nbconvert_exporter": "python",
   "pygments_lexer": "ipython3",
   "version": "3.5.2"
  }
 },
 "nbformat": 4,
 "nbformat_minor": 2
}
