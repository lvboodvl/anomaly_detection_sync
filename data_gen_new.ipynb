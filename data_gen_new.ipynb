{
 "cells": [
  {
   "cell_type": "code",
   "execution_count": 1,
   "metadata": {},
   "outputs": [],
   "source": [
    "import numpy as np\n",
    "import pandas as pd\n",
    "import matplotlib.pyplot as plt\n",
    "import random\n",
    "plt.rcParams['savefig.dpi'] = 150 #图片像素\n",
    "plt.rcParams['figure.dpi'] = 150 #分辨率\n",
    "%matplotlib inline"
   ]
  },
  {
   "cell_type": "code",
   "execution_count": 2,
   "metadata": {},
   "outputs": [
    {
     "name": "stdout",
     "output_type": "stream",
     "text": [
      "(90285,)\n",
      "(38342,)\n"
     ]
    }
   ],
   "source": [
    "data_bbu = pd.read_csv('data-bbu.csv', header=None)\n",
    "data_gps = pd.read_csv('data-gps.csv', header=None)\n",
    "data_bbu = data_bbu[2]\n",
    "data_gps = data_gps[2]\n",
    "TE_bbu = pd.array(data_bbu)\n",
    "TE_gps = pd.array(data_gps)\n",
    "TE_bbu = TE_bbu - np.average(TE_bbu)\n",
    "TE_gps = TE_gps - np.average(TE_gps)\n",
    "print(np.shape(TE_bbu))\n",
    "print(np.shape(TE_gps))"
   ]
  },
  {
   "cell_type": "code",
   "execution_count": 3,
   "metadata": {},
   "outputs": [],
   "source": [
    "span = 784\n",
    "TE_bbu = np.array(TE_bbu)\n",
    "TE_gps = np.array(TE_gps)\n",
    "col_1 = len(TE_bbu)//span\n",
    "col_2 = len(TE_gps)//span\n",
    "TE_bbu = np.reshape(TE_bbu[:col_1*span],(col_1,span))\n",
    "TE_gps = np.reshape(TE_gps[:col_2*span],(col_2,span))"
   ]
  },
  {
   "cell_type": "code",
   "execution_count": 5,
   "metadata": {},
   "outputs": [
    {
     "data": {
      "text/plain": [
       "[<matplotlib.lines.Line2D at 0x7f8410e069e8>]"
      ]
     },
     "execution_count": 5,
     "metadata": {},
     "output_type": "execute_result"
    },
    {
     "data": {
      "image/png": "[encoded data removed]",
      "text/plain": [
       "<Figure size 432x288 with 1 Axes>"
      ]
     },
     "metadata": {
      "needs_background": "light"
     },
     "output_type": "display_data"
    }
   ],
   "source": [
    "plt.plot(TE_bbu[25])"
   ]
  },
  {
   "cell_type": "code",
   "execution_count": 6,
   "metadata": {},
   "outputs": [
    {
     "name": "stdout",
     "output_type": "stream",
     "text": [
      "(48, 784)\n"
     ]
    }
   ],
   "source": [
    "print(np.shape(TE_gps))"
   ]
  },
  {
   "cell_type": "code",
   "execution_count": 7,
   "metadata": {},
   "outputs": [
    {
     "name": "stdout",
     "output_type": "stream",
     "text": [
      "(98381,)\n",
      "(162376,)\n"
     ]
    }
   ],
   "source": [
    "data_bbu2 = pd.read_csv('data1.csv', header=None)\n",
    "data_gps2 = pd.read_csv('data2.csv', header=None)\n",
    "data_bbu2 = data_bbu2[2]\n",
    "data_gps2 = data_gps2[2]\n",
    "TE_bbu2 = pd.array(data_bbu2)\n",
    "TE_gps2 = pd.array(data_gps2)\n",
    "TE_bbu2 = TE_bbu2 - np.average(TE_bbu2)\n",
    "TE_gps2 = TE_gps2 - np.average(TE_gps2)\n",
    "print(np.shape(TE_bbu2))\n",
    "print(np.shape(TE_gps2))"
   ]
  },
  {
   "cell_type": "code",
   "execution_count": 8,
   "metadata": {},
   "outputs": [],
   "source": [
    "span = 784\n",
    "TE_bbu2 = np.array(TE_bbu2)\n",
    "TE_gps2 = np.array(TE_gps2)\n",
    "col_11 = len(TE_bbu2)//span\n",
    "col_22 = len(TE_gps2)//span\n",
    "TE_bbu2 = np.reshape(TE_bbu2[:col_11*span],(col_11,span))\n",
    "TE_gps2 = np.reshape(TE_gps2[:col_22*span],(col_22,span))"
   ]
  },
  {
   "cell_type": "code",
   "execution_count": 9,
   "metadata": {},
   "outputs": [
    {
     "name": "stdout",
     "output_type": "stream",
     "text": [
      "(125, 784)\n",
      "(207, 784)\n"
     ]
    }
   ],
   "source": [
    "print(np.shape(TE_bbu2))\n",
    "print(np.shape(TE_gps2))"
   ]
  },
  {
   "cell_type": "code",
   "execution_count": 10,
   "metadata": {},
   "outputs": [
    {
     "data": {
      "text/plain": [
       "[<matplotlib.lines.Line2D at 0x7f8410ddcc18>]"
      ]
     },
     "execution_count": 10,
     "metadata": {},
     "output_type": "execute_result"
    },
    {
     "data": {
      "image/png": "[encoded data removed]",
      "text/plain": [
       "<Figure size 432x288 with 1 Axes>"
      ]
     },
     "metadata": {
      "needs_background": "light"
     },
     "output_type": "display_data"
    }
   ],
   "source": [
    "plt.plot(TE_gps2[203])"
   ]
  },
  {
   "cell_type": "code",
   "execution_count": 11,
   "metadata": {},
   "outputs": [],
   "source": [
    "normal_datas = np.concatenate((TE_bbu,TE_gps))"
   ]
  },
  {
   "cell_type": "code",
   "execution_count": 12,
   "metadata": {},
   "outputs": [
    {
     "data": {
      "text/plain": [
       "(495, 784)"
      ]
     },
     "execution_count": 12,
     "metadata": {},
     "output_type": "execute_result"
    }
   ],
   "source": [
    "normal_datas = np.concatenate((TE_bbu2,normal_datas))\n",
    "normal_datas = np.concatenate((TE_gps2,normal_datas))\n",
    "np.shape(normal_datas)"
   ]
  },
  {
   "cell_type": "code",
   "execution_count": 13,
   "metadata": {},
   "outputs": [],
   "source": [
    "normal_datas_ratio1 = normal_datas * 1.3\n",
    "normal_datas_ratio2 = normal_datas * (-0.87)"
   ]
  },
  {
   "cell_type": "code",
   "execution_count": 14,
   "metadata": {},
   "outputs": [
    {
     "data": {
      "text/plain": [
       "(1485, 784)"
      ]
     },
     "execution_count": 14,
     "metadata": {},
     "output_type": "execute_result"
    }
   ],
   "source": [
    "normal_data_012 = np.concatenate((normal_datas,normal_datas_ratio1))\n",
    "normal_data_012 = np.concatenate((normal_data_012,normal_datas_ratio2))\n",
    "np.shape(normal_data_012)"
   ]
  },
  {
   "cell_type": "code",
   "execution_count": 15,
   "metadata": {},
   "outputs": [],
   "source": [
    "normal_data_4 = normal_data_012 + np.random.random((1485,784))*1.8"
   ]
  },
  {
   "cell_type": "code",
   "execution_count": 16,
   "metadata": {},
   "outputs": [
    {
     "data": {
      "text/plain": [
       "[<matplotlib.lines.Line2D at 0x7f8410d99160>]"
      ]
     },
     "execution_count": 16,
     "metadata": {},
     "output_type": "execute_result"
    },
    {
     "data": {
      "image/png": "[encoded data removed]",
      "text/plain": [
       "<Figure size 432x288 with 1 Axes>"
      ]
     },
     "metadata": {
      "needs_background": "light"
     },
     "output_type": "display_data"
    }
   ],
   "source": [
    "plt.plot(normal_data_4[103])"
   ]
  },
  {
   "cell_type": "code",
   "execution_count": 17,
   "metadata": {},
   "outputs": [
    {
     "data": {
      "text/plain": [
       "(2970, 784)"
      ]
     },
     "execution_count": 17,
     "metadata": {},
     "output_type": "execute_result"
    }
   ],
   "source": [
    "normal_data_0124 = np.concatenate((normal_data_4,normal_data_012))\n",
    "np.shape(normal_data_0124)"
   ]
  },
  {
   "cell_type": "code",
   "execution_count": 18,
   "metadata": {},
   "outputs": [],
   "source": [
    "normal_data_5 = (normal_data_0124 + np.mean(normal_data_0124))*2.0"
   ]
  },
  {
   "cell_type": "code",
   "execution_count": 19,
   "metadata": {},
   "outputs": [
    {
     "data": {
      "text/plain": [
       "(5940, 784)"
      ]
     },
     "execution_count": 19,
     "metadata": {},
     "output_type": "execute_result"
    }
   ],
   "source": [
    "normal_data_01245 = np.concatenate((normal_data_5,normal_data_0124))\n",
    "np.shape(normal_data_01245)"
   ]
  },
  {
   "cell_type": "code",
   "execution_count": 20,
   "metadata": {},
   "outputs": [],
   "source": [
    "def tie_gen(N1, N2, N3):\n",
    "    mu = N1\n",
    "    sigma = N2\n",
    "    num = N3\n",
    "    rand_data = np.random.normal(mu, sigma, num)\n",
    "    return rand_data\n",
    "\n",
    "# jump\n",
    "def jump_noise_gen(N):\n",
    "    jump_num = np.random.randint(8,20)\n",
    "    jump_inx = np.random.randint(1,N,size=jump_num)\n",
    "    jump_noise = np.random.randn(N)\n",
    "    for k in range(jump_num):\n",
    "        jump_noise[jump_inx[k]] = 2 *np.random.randint(1,8)\n",
    "    return jump_noise\n",
    "\n",
    "def discontinue_gen_mode1():\n",
    "    N1 = np.random.randint(1,5)\n",
    "    N2 = np.random.randint(1,7)\n",
    "    N3 = np.random.randint(1,700)\n",
    "    rand_data1 = tie_gen(N1, N2, N3)\n",
    "    N4 = np.random.randint(1,3)\n",
    "    N5 = np.random.randint(1,9)\n",
    "    N6 = 784 - N3\n",
    "    rand_data2 = tie_gen(N4, N5, N6)\n",
    "    discontinue_gen = np.random.randn(rand_data1.size+rand_data2.size)\n",
    "    discontinue_gen[1:rand_data1.size] = rand_data1[1:rand_data1.size]\n",
    "    discontinue_gen[rand_data1.size+1:rand_data1.size+rand_data2.size] = rand_data2[1:rand_data2.size] + np.random.randint(20,35)\n",
    "    return discontinue_gen\n",
    "\n",
    "def discontinue_gen_mode2():\n",
    "    N1 = np.random.randint(1,6)\n",
    "    N2 = np.random.randint(1,8)\n",
    "    N3 = np.random.randint(1,100)\n",
    "    rand_data1 = tie_gen(N1, N2, N3)\n",
    "    N4 = np.random.randint(1,10)\n",
    "    N5 = np.random.randint(1,6)\n",
    "    N6 = np.random.randint(100,500) \n",
    "    rand_data2 = tie_gen(N4, N5, N6)\n",
    "    N7 = np.random.randint(1,5)\n",
    "    N8 = np.random.randint(1,7)\n",
    "    N9 = 784 - N3 - N6\n",
    "    rand_data3 = tie_gen(N7, N8, N9) \n",
    "    discontinue_gen = np.random.randn(rand_data1.size+rand_data2.size+rand_data3.size)\n",
    "    discontinue_gen[1:rand_data1.size] = rand_data1[1:rand_data1.size]\n",
    "    discontinue_gen[rand_data1.size+1:rand_data1.size+rand_data2.size] = rand_data2[1:rand_data2.size] + np.random.randint(20,40)\n",
    "    discontinue_gen[rand_data1.size+rand_data2.size+1:rand_data1.size+rand_data2.size+rand_data3.size]= rand_data3[1:rand_data3.size]\n",
    "    return discontinue_gen\n",
    "\n",
    "def holdover_gen(N):\n",
    "    x = np.linspace(1,N,N,dtype='float')\n",
    "    a = 0.2 * np.random.rand() - 4\n",
    "    b = 20 * np.random.rand() - 5\n",
    "    c = 4 * np.random.rand()\n",
    "    y = a*x**2 + b*x +c\n",
    "    return y * 1e-5"
   ]
  },
  {
   "cell_type": "code",
   "execution_count": 21,
   "metadata": {},
   "outputs": [],
   "source": [
    "data_x_jump = np.zeros((1000,784))\n",
    "for k in range(1000):\n",
    "    data_x_jump[k] = jump_noise_gen(784)\n",
    "data_x_dis1 = np.zeros((1500,784))\n",
    "for k in range(1000):\n",
    "    data_x_dis1[k] = discontinue_gen_mode1()\n",
    "data_x_dis2 = np.zeros((1500,784))\n",
    "for k in range(1000):\n",
    "    data_x_dis2[k] = discontinue_gen_mode2()\n",
    "data_x_hd = np.zeros((1000,784))\n",
    "#for k in range(1000):\n",
    "#    data_x_hd[k] = holdover_gen(784)\n",
    "\n",
    "tp1 = np.concatenate((data_x_jump,data_x_dis1))\n",
    "tp2 = np.concatenate((tp1,data_x_dis2))\n",
    "#tp3 = np.concatenate((tp2,data_x_hd))\n",
    "#tp4 = -0.85 * tp3\n",
    "#tp5 = np.concatenate((tp3, tp4))\n",
    "\n",
    "np.shape(tp2)\n",
    "data_abnormal = tp2"
   ]
  },
  {
   "cell_type": "code",
   "execution_count": 24,
   "metadata": {},
   "outputs": [
    {
     "name": "stdout",
     "output_type": "stream",
     "text": [
      "(4000, 784)\n"
     ]
    }
   ],
   "source": [
    "print(np.shape(tp2))"
   ]
  },
  {
   "cell_type": "code",
   "execution_count": 25,
   "metadata": {},
   "outputs": [],
   "source": [
    "a = pd.read_csv('wander2.csv',header=None)\n",
    "data = a[2]\n",
    "tie = pd.array(data)\n",
    "tie2 = np.array(tie)\n",
    "a = pd.read_csv('wander1.csv',header=None)\n",
    "data = a[2]\n",
    "tie = pd.array(data)\n",
    "tie1 = np.array(tie)"
   ]
  },
  {
   "cell_type": "code",
   "execution_count": 26,
   "metadata": {},
   "outputs": [],
   "source": [
    "span = 784\n",
    "col_3 = len(tie1)//span\n",
    "col_4 = len(tie2)//span\n",
    "tie1 = np.reshape(tie1[:col_3*span],(col_3,span))*50.0\n",
    "tie2 = np.reshape(tie2[:col_4*span],(col_4,span))*40.0"
   ]
  },
  {
   "cell_type": "code",
   "execution_count": 27,
   "metadata": {},
   "outputs": [
    {
     "data": {
      "text/plain": [
       "(3060, 784)"
      ]
     },
     "execution_count": 27,
     "metadata": {},
     "output_type": "execute_result"
    }
   ],
   "source": [
    "tie12 = np.concatenate((tie1, tie2))\n",
    "tie3 = np.concatenate((tie12, tie12*(-0.89)))\n",
    "np.shape(tie3)"
   ]
  },
  {
   "cell_type": "code",
   "execution_count": 28,
   "metadata": {},
   "outputs": [
    {
     "data": {
      "text/plain": [
       "[<matplotlib.lines.Line2D at 0x7ff493eb09b0>]"
      ]
     },
     "execution_count": 28,
     "metadata": {},
     "output_type": "execute_result"
    },
    {
     "data": {
      "image/png": "[encoded data removed]",
      "text/plain": [
       "<Figure size 432x288 with 1 Axes>"
      ]
     },
     "metadata": {
      "needs_background": "light"
     },
     "output_type": "display_data"
    }
   ],
   "source": [
    "plt.plot(tie3[1450])"
   ]
  },
  {
   "cell_type": "code",
   "execution_count": 29,
   "metadata": {},
   "outputs": [
    {
     "data": {
      "text/plain": [
       "-0.6461238482893147"
      ]
     },
     "execution_count": 29,
     "metadata": {},
     "output_type": "execute_result"
    }
   ],
   "source": [
    "np.mean(tie3)"
   ]
  },
  {
   "cell_type": "code",
   "execution_count": 26,
   "metadata": {},
   "outputs": [
    {
     "name": "stdout",
     "output_type": "stream",
     "text": [
      "(5940, 784)\n",
      "(4000, 784)\n"
     ]
    }
   ],
   "source": [
    "normal_datas = normal_data_01245\n",
    "print(np.shape(normal_datas))\n",
    "print(np.shape(data_abnormal))"
   ]
  },
  {
   "cell_type": "code",
   "execution_count": 27,
   "metadata": {},
   "outputs": [
    {
     "data": {
      "text/plain": [
       "(9940, 784)"
      ]
     },
     "execution_count": 27,
     "metadata": {},
     "output_type": "execute_result"
    }
   ],
   "source": [
    "datasets = np.concatenate((normal_datas,data_abnormal))\n",
    "np.shape(datasets)"
   ]
  },
  {
   "cell_type": "code",
   "execution_count": 28,
   "metadata": {},
   "outputs": [],
   "source": [
    "label_normal = np.ones(len(normal_datas)) \n",
    "label_abnormal = np.zeros(len(data_abnormal))\n",
    "labels = np.concatenate((label_normal,label_abnormal))"
   ]
  },
  {
   "cell_type": "code",
   "execution_count": 29,
   "metadata": {},
   "outputs": [],
   "source": [
    "np.savetxt('sync_detection_data_new.txt',datasets)\n",
    "np.savetxt('sync_detection_label_new.txt',labels)"
   ]
  },
  {
   "cell_type": "code",
   "execution_count": 34,
   "metadata": {},
   "outputs": [
    {
     "data": {
      "text/plain": [
       "(14030, 784)"
      ]
     },
     "execution_count": 34,
     "metadata": {},
     "output_type": "execute_result"
    }
   ],
   "source": [
    "aa = np.loadtxt('sync_detection_data_new.txt')\n",
    "np.shape(aa)"
   ]
  },
  {
   "cell_type": "code",
   "execution_count": 35,
   "metadata": {},
   "outputs": [
    {
     "data": {
      "text/plain": [
       "(14030,)"
      ]
     },
     "execution_count": 35,
     "metadata": {},
     "output_type": "execute_result"
    }
   ],
   "source": [
    "bb = np.loadtxt('sync_detection_label_new.txt')\n",
    "np.shape(bb)"
   ]
  },
  {
   "cell_type": "code",
   "execution_count": null,
   "metadata": {},
   "outputs": [],
   "source": []
  }
 ],
 "metadata": {
  "kernelspec": {
   "display_name": "Python 3",
   "language": "python",
   "name": "python3"
  },
  "language_info": {
   "codemirror_mode": {
    "name": "ipython",
    "version": 3
   },
   "file_extension": ".py",
   "mimetype": "text/x-python",
   "name": "python",
   "nbconvert_exporter": "python",
   "pygments_lexer": "ipython3",
   "version": "3.5.2"
  }
 },
 "nbformat": 4,
 "nbformat_minor": 2
}
